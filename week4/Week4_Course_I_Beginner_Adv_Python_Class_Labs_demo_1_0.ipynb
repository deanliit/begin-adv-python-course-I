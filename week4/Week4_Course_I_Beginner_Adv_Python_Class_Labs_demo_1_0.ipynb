{
  "nbformat": 4,
  "nbformat_minor": 0,
  "metadata": {
    "colab": {
      "provenance": []
    },
    "kernelspec": {
      "name": "python3",
      "display_name": "Python 3"
    },
    "language_info": {
      "name": "python"
    }
  },
  "cells": [
    {
      "cell_type": "markdown",
      "source": [
        "#Python Course I - class demo and homework assignments\n",
        "- Google Classroom - Module 1 - 3\n",
        "\n",
        "### Demo Topics\n",
        "- input\n",
        "- sting.upper, lower\n",
        "- import - adding python modules/functions to memory\n",
        "- date / time, formatting date ie: datetime.strptime\n",
        "- random\n",
        "- range\n",
        "- for loop - loops for a fixed number of time\n",
        "- if - expression to evaluate left and right variable and return true/false\n",
        "- logical expressions, logical operatprs\n",
        "- Other\n",
        "\n",
        "#github course demos and examples\n",
        "\n",
        "- https://github.com/deanliit/begin-adv-python-course-I\n",
        "\n",
        "### HomeWork/Assignments\n",
        "\n",
        "- Week 1-3\n",
        "\n",
        "- Reading:\n",
        "\n",
        "https://www.w3schools.com/python/python_intro.asp\n",
        "- Variables, Data Type, Casting, Number, Operations\n",
        "\n",
        "- Practice exercises:\n",
        "- Course book example page 25\n",
        "\n",
        "\n"
      ],
      "metadata": {
        "id": "WTQyaSpLjFfU"
      }
    },
    {
      "cell_type": "markdown",
      "source": [
        "### Introduction to vs.code\n",
        "\n",
        "- create project folder ie: \"c:\\python-dev-24\"\n",
        "- start vs.code\n",
        "- add folder to workspace\n",
        "- save workspace\n",
        "- create python demo folder ie: \"python-class-labs\"\n",
        "- create a python file: \"demo1.py\"\n",
        "- enter python code\n",
        "- save file ie: \"ctrl+s\"\n",
        "- right-click on file name \"demo1.py\"\n",
        "- select, open in integrated terminal\n",
        "- windows: dir\n",
        "- macos/linus: ls\n",
        "- windows: cls\n",
        "- macos/linux: clear\n",
        "- python demo1.py\n",
        "- exit\n",
        "- or delete icon\n",
        "\n",
        "#### command line terminal tips\n",
        "up/down arrow key to scroll to previous/next commands\n",
        "\n",
        "press tab to complete a command\n",
        "\n",
        "example: python demo3 ---> tab\n",
        "\n",
        "\n",
        "## Installing extensions\n",
        "- install vs.code extensions\n",
        "- code runner - runs python code from file instead of command terminal\n",
        "\n",
        "1. select extensions icon\n",
        "2. search for extension\n",
        "    \n",
        "    code runner\n",
        "    by Jun Han\n",
        "\n",
        "  ** can install other code runners **\n",
        "  \n",
        "3. install extension\n",
        "* use extension from menu or right-clicking on file\n",
        "\n"
      ],
      "metadata": {
        "id": "yKqLl8GNhNpn"
      }
    },
    {
      "cell_type": "markdown",
      "source": [
        "### mathimatical expression or mathamital operations ()+,-%*^\n",
        "<pre>\n",
        "# ie math formulas - operations ()+,-%*^\n",
        "#\n",
        "#a = b + c\n",
        "#a = b * c\n",
        "#a = (b/2) + (c*3) .... etc..\n",
        "#\n",
        "#total = item1 + item2 + item3 + item4\n",
        "</pre>"
      ],
      "metadata": {
        "id": "9N0jjiJeSEpD"
      }
    },
    {
      "cell_type": "markdown",
      "source": [
        "## Logical expression\n",
        "<pre>\n",
        "Expression to evaluate left and righ variable and return true or false\n",
        "(), ==, <=, >=,\n",
        "true/false = a == b\n",
        "true/false = (a < b) or (a == b)\n",
        "true/false = a and b or c > d or e = g\n",
        "true/false = ((a and b) or (c > d) or (e == g))\n",
        "other\n",
        "\n",
        "</pre>"
      ],
      "metadata": {
        "id": "AIPQOkdVvDKp"
      }
    },
    {
      "cell_type": "markdown",
      "source": [
        "## Variable assignemt\n",
        "\n",
        "a = fixed variable assignment - known value\n",
        "\n",
        "a = dynamic variable assignmemt - ie: input\n",
        "  - retrieve data from a file or database\n",
        "\n",
        "python dynamicaly assigns a data type\n",
        "- str, int, float, bool, other\n",
        "\n",
        "cast from 1 data type to another\n",
        "\n",
        "** more casting or converting from 1 datatype to another\n",
        "\n",
        "\n",
        "some programming languages the variable data type is fixed or static\n",
        "c/java, other\n",
        "\n",
        "str a; //can only assign str to this variable\n",
        "\n",
        "float b; //can only assign float to this variable\n",
        "\n",
        "bool c;\n",
        "\n",
        "int d;\n",
        "\n",
        "** fast but doe resre a pre-compile step before running application\n",
        "\n"
      ],
      "metadata": {
        "id": "nK4EcvvORniw"
      }
    },
    {
      "cell_type": "code",
      "source": [
        "#software development best practices - python, other\n",
        "\n",
        "\"\"\"\n",
        "#Refactoring: write code and mondify/enhance code ie: 1.0.0..1\n",
        "#--------------------------------------\n",
        "# systems/ program requirments\n",
        "# ie: build the folloginw python program\n",
        "# - researching python libraries, examples\n",
        "# - demo code\n",
        "# - more programs you write the more systems you can build\n",
        "#--------------------------------------\n",
        "\n",
        "-----------------------------------\n",
        "Example Requirements\n",
        "-----------------------------------\n",
        "\n",
        "compute total of 3 items\n",
        "prompt/input for name and price\n",
        "\n",
        "example output:\n",
        "name in upper case, current date and price\n",
        "\n",
        "ITEM ONE    9/5/2024   100.5\n",
        "ITEM TwO    9/5/2024    63.25\n",
        "ITEM THREE  9/5/2024    12.3\n",
        "\n",
        "total                 176.15\n",
        "\n",
        "* round total\n",
        "* item in upper case\n",
        "\n",
        "--------------------------------------------\n",
        "Development Best practice steps for many programs\n",
        "--------------------------------------------\n",
        "#1. import libraries\n",
        "#2. get user input, files, database, web, other\n",
        "#3. string data type\n",
        "#4. cast string to other data type int, float, bool, other\n",
        "#5. retrive system data and time\n",
        "#6. retrieve day, month, year\n",
        "#7. calculating total for 3 input items\n",
        "#8. calculation or numerical expression\n",
        "#9. rounding\n",
        "#10. cast data from 1 type to another\n",
        "#11. loop through a list of items\n",
        "#12. varify if data is true/false\n",
        "#13. output data - screen, file, database, web, other\n",
        "# other\n",
        "\n",
        "\"\"\""
      ],
      "metadata": {
        "id": "S7aA0b9SAVyN"
      },
      "execution_count": null,
      "outputs": []
    },
    {
      "cell_type": "code",
      "source": [
        "#-- input-prompt-demo-1.py --\n",
        "\"\"\"\n",
        "input is used to create python conaole input programs\n",
        "when input from the keybpard is required\n",
        "ie: batch programs etc..\n",
        "\n",
        "ctrl+c   --- cancel input\n",
        "\"\"\"\n",
        "## retrieve string data from keyboard input\n",
        "#item1 = input()  #string\n",
        "item1 = input(\"item1: \")  #string\n",
        "item2 = input(\"item2: \")  #string\n",
        "\n",
        "#print(\"item1: \" + item1)\n",
        "#print(\"item2: \" + item2)\n",
        "\n",
        "#- calculte input numbers and display total, optional: round\n",
        "\n",
        "#total = (int(item1) + int(item2))\n",
        "total = (float(item1) + float(item2))\n",
        "#rtotal = round(total)\n",
        "rtotal = round(total,2)\n",
        "\n",
        "#print(\"total: \" + str(round(float(item1) + float(item2))))\n",
        "#print(\"total: \" + str(round(total))\n",
        "print(\"total: \" + str(rtotal))\n"
      ],
      "metadata": {
        "id": "vag7WOdZhxXy"
      },
      "execution_count": null,
      "outputs": []
    },
    {
      "cell_type": "code",
      "source": [
        "#-- input-prompt-demo-2.py --\n",
        "\"\"\"\n",
        "prompt/input for name and price\n",
        "display: name in upper case and price\n",
        "\"\"\"\n",
        "\n",
        "item_name = input(\"name: \")\n",
        "item_price = input(\"price: \")\n",
        "\n",
        "#upper() - convert a string to upper case: also lower()\n",
        "#upper,lower is not avilable for numeric variables\n",
        "\n",
        "#item1 = 10\n",
        "#item.upper() #error - variable is not a string\n",
        "#str(item1).upper() - no error\n",
        "\n",
        "#print(item_name.upper() + str(item_price))\n",
        "#print(item_name.upper() + \" \" + str(item_price))\n",
        "\n",
        "#print(item_name.upper(), str(item_price))\n",
        "#print(item_name.upper(),\" \",str(item_price))\n",
        "\n",
        "print(f\"{item_name.upper()} {item_price}\")\n"
      ],
      "metadata": {
        "id": "9XvYXeGL1jFC"
      },
      "execution_count": null,
      "outputs": []
    },
    {
      "cell_type": "code",
      "source": [
        "#-- input-prompt-demo-3.py --\n",
        "\"\"\"\n",
        "prompt/input for name, date and price\n",
        "display: name in upper case, date and price\n",
        "ie: input(\"date: (mm/dd/yy): \")\n",
        "\"\"\"\n",
        "\n",
        "name1 = input(\"item name: \")\n",
        "#invalid \\ format use \\\\ ie: escape sequence \\\\ or \\\" or \\'\n",
        "date1 = input(\"date: mm/dd/yy: \")\n",
        "price1 = input(\"price: \")\n",
        "\n",
        "print(f\"{name1.upper()} {date1} {price1}\")\n",
        "\n"
      ],
      "metadata": {
        "id": "kMOhUn8V-YGW"
      },
      "execution_count": null,
      "outputs": []
    },
    {
      "cell_type": "code",
      "source": [
        "#-- input-prompt-demo-4.py --\n",
        "\n",
        "\"\"\"\n",
        "[ System requirements: use case, user stories ]\n",
        "-- summary of the some of the system/module --\n",
        "-- 1 or more developers would build and test the requiremnts --\n",
        "-- sytem ui/ux - web sceens or desktop windows screens\n",
        "-- system can also be a console program - no graphical screen - run in a terminal\n",
        "-- python module/library - no graphical screen - schedule to run\n",
        "\n",
        "------------------------------------------------------------------------\n",
        "-- Class demo case studys is based on a inventory/invoicing system --\n",
        "-- demonstrate many core functanalities or python\n",
        "------------------------------------------------------------------------\n",
        "\n",
        "-- example/demo - console system or module\n",
        "prompt/input for name and price\n",
        "display: name in upper case, current date and price\n",
        "ie:\n",
        "import datetime\n",
        "date = datetime.datetime.now()\n",
        "today = f\"{date.month} / {date.day} / {date.year}\"\n",
        "\"\"\"\n",
        "\n",
        "#format date/time\n",
        "#https://www.w3schools.com/python/python_datetime.asp\n",
        "\n",
        "#import datetime library into memory\n",
        "import datetime\n",
        "import random\n",
        "#other\n",
        "\n",
        "name1 = input(\"item name: \")\n",
        "price1 = input(\"price: \")\n",
        "date1 = datetime.datetime.now() ##includes both date and time\n",
        "\n",
        "#display date and time\n",
        "#today1 = date1\n",
        "\n",
        "#display date\n",
        "#today1 = date1.month + \"/\" + date1.day + \"/\" date1.year\n",
        "today1 = f\"{date1.month}/{date1.day}/{date1.year}\"\n",
        "\n",
        "#display time only\n",
        "#time1 = date1.hour + \":\" + minute\n",
        "\n",
        "#date/time formatting\n",
        "#today1 = date1.strftime(\"%B\")\n",
        "\n",
        "#print(name1.upper(),today1,price1)\n",
        "print(f\"{name1.upper()} {today1} {price1}\")\n",
        "\n"
      ],
      "metadata": {
        "id": "B7RJIzDFEtZt",
        "colab": {
          "base_uri": "https://localhost:8080/"
        },
        "outputId": "a3b7b6e3-87b3-4536-cc28-55ed0735f66c"
      },
      "execution_count": null,
      "outputs": [
        {
          "output_type": "stream",
          "name": "stdout",
          "text": [
            "item name: item one\n",
            "price: 100.5\n",
            "ITEM ONE 9/5/2024 100.5\n"
          ]
        }
      ]
    },
    {
      "cell_type": "code",
      "source": [
        "#-- input-prompt-demo-5.py --\n",
        "#Refactoring: write code and mondify/enhance code ie: 1.0.0..1\n",
        "\n",
        "#--------------------------------------\n",
        "#program requirments\n",
        "#ie: build the folloginw python program\n",
        "# - researching python libraries, examples\n",
        "# - demo code\n",
        "# - more programs you write the more systems you can build\n",
        "#--------------------------------------\n",
        "\"\"\"\n",
        "compute total of 3 items\n",
        "prompt/input for name and price\n",
        "\n",
        "example output:\n",
        "name in upper case, current date and price\n",
        "\n",
        "ITEM ONE    9/5/2024   100.5\n",
        "ITEM TwO    9/5/2024    63.25\n",
        "ITEM THREE  9/5/2024    12.3\n",
        "\n",
        "total                 176.15\n",
        "\n",
        "* round total\n",
        "* item in upper case\n",
        "\n",
        "\"\"\"\n",
        "\n",
        "#inport datetime library\n",
        "import datetime\n",
        "\n",
        "#get user input\n",
        "item1 = input(\"item1: \")      #string data type\n",
        "price1 = input(\"price1: `\")   #string data type\n",
        "\n",
        "item2 = input(\"item2: \")      #string data type\n",
        "price2 = input(\"price2: \")    #string data type\n",
        "\n",
        "item3 = input(\"item3: \")      #string data type\n",
        "price3 = input(\"price3: \")    #string data type\n",
        "\n",
        "#retrive system data and time\n",
        "date1 = datetime.datetime.now() #date data type\n",
        "\n",
        "#retrieve day, month, year\n",
        "today1 = f\"{date1.month}/{date1.day}/{date1.year}\"\n",
        "\n",
        "#calculating total for 3 input items\n",
        "#calculation or numerical expression\n",
        "total = (float(price1) + float(price2) + float(price3))\n",
        "\n",
        "#rounding\n",
        "rtotal = round(total,2)\n",
        "\n",
        "print(f\"{item1.upper()} {today1} {price1}\")\n",
        "print(f\"{item2.upper()} {today1} {price2}\")\n",
        "print(f\"{item3.upper()} {today1} {price3}\")\n",
        "\n",
        "#cast data from 1 type to another\n",
        "print(\"total: \",str(rtotal))\n"
      ],
      "metadata": {
        "id": "Uo_cy-PbD4Ue"
      },
      "execution_count": null,
      "outputs": []
    },
    {
      "cell_type": "markdown",
      "source": [
        "## python / java code comparison\n",
        "- https://raygun.com/blog/java-vs-python/\n"
      ],
      "metadata": {
        "id": "K-R0WVjbcLjg"
      }
    },
    {
      "cell_type": "code",
      "source": [
        "#intro to looping\n",
        "#-- loop-demo-1.py --\n",
        "\n",
        "#rage - function - creates a sequence up to a fixed number\n",
        "# step thou the number x times and other features\n",
        "\n",
        "#loop - iterate or count from start to fixed number\n",
        "\n",
        "#loop 3 times\n",
        "#start to finish\n",
        "\n",
        "#python code block\n",
        "\n",
        "#python code statements\n",
        "# exmple:\n",
        "#for - must be within a code block and must end with :\n",
        "\n",
        "#code block = 1 or more python code staremnts\n",
        "#           = are indented with a code statment\n",
        "#\n",
        "\n",
        "#can have multiple code statements and code blocks\n",
        "#example\n",
        "#  for ... :\n",
        "#     ...python code...\n",
        "\n",
        "#pyhon code indentation syntax\n",
        "#: after for statement\n",
        "#create the vraiable i, loop starts at 0 to 3\n",
        "#for i in 3:\n",
        "for i in range(3):\n",
        "  print(\"i = \", i)\n"
      ],
      "metadata": {
        "colab": {
          "base_uri": "https://localhost:8080/"
        },
        "id": "8xIzWODRcWo0",
        "outputId": "7b2dbd7f-4073-4e87-98ef-6558bd0fdd4c"
      },
      "execution_count": null,
      "outputs": [
        {
          "output_type": "stream",
          "name": "stdout",
          "text": [
            "i =  0\n",
            "i =  1\n",
            "i =  2\n"
          ]
        }
      ]
    },
    {
      "cell_type": "code",
      "source": [
        "#loop throu 3 items starting 0 to 2\n",
        "\n",
        "\"\"\"\n",
        "\n",
        "python - complex code using minimal syntax\n",
        "simplifys many progammins step\n",
        "\n",
        "programming fundamentals\n",
        "-------------------------------\n",
        "start counting at 0\n",
        "0,1,2,.... = index\n",
        "\n",
        "created a variable i\n",
        "\n",
        "python \"for\" loop keyword ie: for variable-name \"in\" [list/array/map/set/tuple/range]\n",
        "- end with a colan:\n",
        "\n",
        "some python keyword statements alway end with a colan\n",
        "example: if, for, while,\n",
        "\n",
        "- python will incement cvariable in the fopr loop\n",
        "\n",
        "- after colan: must indent using space or tab\n",
        "- when inden - all indented code/block is within for keyworkd statement ie: for, while\n",
        "- you can add 1 or more indednted code statements\n",
        "\n",
        "//------------------------------------------\n",
        "//java / javascript - loop code\n",
        "//------------------------------------------\n",
        "\n",
        "for(int i=0;i<3;i++)\n",
        "{\n",
        "   console.log(\"..inside for loop: \" + (i+1));\n",
        "\n",
        "   console.log(\"i = \" + i);\n",
        "}\n",
        "\n",
        "\"\"\"\n",
        "\n",
        "print(\"..before for loop\")\n",
        "\n",
        "#for loop is used when you know the exact numer of times to loop\n",
        "#when known of fixed number of times to loop\n",
        "\n",
        "#Python indented code blocks or statements\n",
        "\n",
        "#syntax\n",
        "#for variable in count_of_number_of_items:\n",
        "#range(number_of_items) - fixed number of items\n",
        "# :  begin python code block for a python keyword/statment\n",
        "# variable/i = auto incremented by pthon\n",
        "# variable/i begins at 0,1.... ie: index = 0\n",
        "\n",
        "for i in range(5):\n",
        "   #indent code block - enter 1 or more code staements\n",
        "   print(\"..inside for loop: \", (i+1))\n",
        "\n",
        "   print(\"i = index ..\", i)\n",
        "\n",
        "print(\"..after for loop\")\n",
        "\n"
      ],
      "metadata": {
        "colab": {
          "base_uri": "https://localhost:8080/"
        },
        "id": "XHOlVLMpXjR4",
        "outputId": "bd00df4d-ab69-4122-c889-6004c1109193"
      },
      "execution_count": 2,
      "outputs": [
        {
          "output_type": "stream",
          "name": "stdout",
          "text": [
            "..before for loop\n",
            "..inside for loop:  1\n",
            "i = index .. 0\n",
            "..inside for loop:  2\n",
            "i = index .. 1\n",
            "..inside for loop:  3\n",
            "i = index .. 2\n",
            "..inside for loop:  4\n",
            "i = index .. 3\n",
            "..inside for loop:  5\n",
            "i = index .. 4\n",
            "..after for loop\n"
          ]
        }
      ]
    },
    {
      "cell_type": "code",
      "source": [
        "#demo for/range loop #1\n",
        "for i in range(5):\n",
        "  print(\"i = \", i)\n"
      ],
      "metadata": {
        "colab": {
          "base_uri": "https://localhost:8080/"
        },
        "id": "-12I3bc4-Uvn",
        "outputId": "f3104774-bb9b-48b8-eaf4-0ee85505b352"
      },
      "execution_count": 5,
      "outputs": [
        {
          "output_type": "stream",
          "name": "stdout",
          "text": [
            "i =  0\n",
            "i =  1\n",
            "i =  2\n",
            "i =  3\n",
            "i =  4\n"
          ]
        }
      ]
    },
    {
      "cell_type": "code",
      "source": [
        "#demo for/range loop #2\n",
        "#range(start/from,to/end,step/increment-by)\n",
        "\n",
        "#for i in range(5):\n",
        "#for i in range(0,5):\n",
        "#for i in range(1,5):\n",
        "for i in range(0,10,2):\n",
        "  print(\"i = \", i)\n"
      ],
      "metadata": {
        "colab": {
          "base_uri": "https://localhost:8080/"
        },
        "id": "pcYrJHTb_DLT",
        "outputId": "4149e470-014b-40c9-dbbf-9f69b807d82d"
      },
      "execution_count": 10,
      "outputs": [
        {
          "output_type": "stream",
          "name": "stdout",
          "text": [
            "i =  0\n",
            "i =  2\n",
            "i =  4\n",
            "i =  6\n",
            "i =  8\n"
          ]
        }
      ]
    },
    {
      "cell_type": "code",
      "source": [
        "#while loop example 1\n",
        "#declare i\n",
        "#initialize i to 0\n",
        "i = 0\n",
        "\n",
        "#when not certain of the number of times you will loop\n",
        "#can use fixed loop time or true/false loop statemet\n",
        "#can loop until a condition is tre/false\n",
        "#fixed or variable looping\n",
        "\n",
        "#while (logical-expression=true)\n",
        "\n",
        "while i < 3:\n",
        "  print(\"i = \",i)\n",
        "  #increment i, else error, endless/infinate loop\n",
        "  #i = i + 1\n",
        "  i +=1\n",
        "  #error in python\n",
        "  #i++\n",
        "\n"
      ],
      "metadata": {
        "colab": {
          "base_uri": "https://localhost:8080/"
        },
        "id": "zfNZGfK8ncD6",
        "outputId": "32e436ce-362b-4c1a-b1b1-b1cec70a3e1f"
      },
      "execution_count": null,
      "outputs": [
        {
          "output_type": "stream",
          "name": "stdout",
          "text": [
            "i =  0\n",
            "i =  1\n",
            "i =  2\n"
          ]
        }
      ]
    },
    {
      "cell_type": "code",
      "source": [
        "#while loop example 2\n",
        "\n",
        "#when not certain of the number of times you will loop\n",
        "#can use fixed loop time or true/false loop statemet\n",
        "#can loop until a condition is tre/false\n",
        "\n",
        "var = True\n",
        "i = 0\n",
        "\n",
        "#nested statements while if stament within\n",
        "\n",
        "while var == True:\n",
        "  print(\"i = \",i)\n",
        "  #increment i, else error, endless/infinate loop\n",
        "  i = i + 1\n",
        "  #if i == 10:\n",
        "  if i >= 10:\n",
        "    print(\"if statement i = 10: \", i)\n",
        "    var = False\n"
      ],
      "metadata": {
        "id": "FIUzFc6ZhYBN",
        "colab": {
          "base_uri": "https://localhost:8080/"
        },
        "outputId": "0a46c62e-dc50-4dca-ac82-5835b8b85e1c"
      },
      "execution_count": 11,
      "outputs": [
        {
          "output_type": "stream",
          "name": "stdout",
          "text": [
            "i =  0\n",
            "i =  1\n",
            "i =  2\n",
            "i =  3\n",
            "i =  4\n",
            "i =  5\n",
            "i =  6\n",
            "i =  7\n",
            "i =  8\n",
            "i =  9\n",
            "if statement i = 10:  10\n"
          ]
        }
      ]
    },
    {
      "cell_type": "code",
      "source": [
        "#for loop example 2\n",
        "\n",
        "#loop from start to end\n",
        "\n",
        "for i in range(1,3):\n",
        "  print(\"i = \",i)\n"
      ],
      "metadata": {
        "id": "lmrWGU78n0bR",
        "colab": {
          "base_uri": "https://localhost:8080/"
        },
        "outputId": "93ae4003-1b3e-463d-d816-e6a23a9dfabf"
      },
      "execution_count": 12,
      "outputs": [
        {
          "output_type": "stream",
          "name": "stdout",
          "text": [
            "i =  1\n",
            "i =  2\n"
          ]
        }
      ]
    },
    {
      "cell_type": "code",
      "source": [
        "#for loop example 3\n",
        "\n",
        "#loop from 0-9, step/incement by 2\n",
        "\n",
        "for i in range(0,10,2):\n",
        "  print(\"i = \",i)\n"
      ],
      "metadata": {
        "id": "kCzRamuPsXeq",
        "colab": {
          "base_uri": "https://localhost:8080/"
        },
        "outputId": "57b1b384-5571-4646-bd6d-f09cea37411f"
      },
      "execution_count": null,
      "outputs": [
        {
          "output_type": "stream",
          "name": "stdout",
          "text": [
            "i =  0\n",
            "i =  2\n",
            "i =  4\n",
            "i =  6\n",
            "i =  8\n"
          ]
        }
      ]
    },
    {
      "cell_type": "code",
      "source": [
        "\n",
        "#commpn python code syntax indent error\n",
        "#- invalid code block\n",
        "#- invalid code indentation\n",
        "#- colon not enteted\n",
        "\n",
        "\"\"\"\n",
        "for i < range(3)\n",
        "print(\"i= \",i)\n",
        "\"\"\""
      ],
      "metadata": {
        "id": "P9heT3VCnQ3y"
      },
      "execution_count": null,
      "outputs": []
    },
    {
      "cell_type": "code",
      "source": [
        "#factional increment\n",
        "\n",
        "#default for, int cincement\n",
        "#reccomended: create fractional expression\n",
        "#ie: ram = round(float((i/2)))\n",
        "#\n",
        "#intro to math expressions\n",
        "#\n",
        "# rmainder\n",
        "# other\n",
        "\n"
      ],
      "metadata": {
        "id": "03AuKkAhpL0E"
      },
      "execution_count": null,
      "outputs": []
    },
    {
      "cell_type": "code",
      "source": [
        "#summar of nested expressions\n",
        "\"\"\"\n",
        "\n",
        "for i in range(0,10,2):\n",
        "  print(\"i = \",i)\n",
        "  for\n",
        "     if\n",
        "\n",
        "-- nested staments --\n",
        "\n",
        "while .. :\n",
        "    if .... :\n",
        "        for ... :\n",
        "\n",
        "\"\"\""
      ],
      "metadata": {
        "id": "Jys0_Uahp_hr"
      },
      "execution_count": null,
      "outputs": []
    },
    {
      "cell_type": "code",
      "source": [
        "#loop class demo\n",
        "#loop-demo-1.py\n",
        "\n",
        "#num = int(input(\"number: \"))\n",
        "num = input(\"number: \")\n",
        "\n",
        "#inum = int(num)\n",
        "for i in range(int(num)):\n",
        "  #print(\"i: \", i)\n",
        "  print(f\"i: {i}\")\n"
      ],
      "metadata": {
        "colab": {
          "base_uri": "https://localhost:8080/"
        },
        "id": "9CzgqDN0GbbG",
        "outputId": "6abbcfb1-b3b3-4875-aafb-585aef740542"
      },
      "execution_count": 15,
      "outputs": [
        {
          "output_type": "stream",
          "name": "stdout",
          "text": [
            "number: 5\n",
            "i: 0\n",
            "i: 1\n",
            "i: 2\n",
            "i: 3\n",
            "i: 4\n"
          ]
        }
      ]
    },
    {
      "cell_type": "code",
      "source": [
        "#loop class demo\n",
        "#loop-demo-2.py\n",
        "\n",
        "#not effieient for larger number of items\n",
        "item1 = \"\"\n",
        "item2 = \"\"\n",
        "item3 = \"\"\n",
        "#other\n",
        "\n",
        "#best practice\n",
        "#or store item in a array/list/set/tuple/map\n",
        "#array/list = sequence/collection of vraiable in memory -\n",
        "#ie: item1, item2, ....\n",
        "\n",
        "#-- large list of items\n",
        "#array/list/map/set/tuple\n",
        "#array[0]=\"item one\"\n",
        "#array[1]=\"item two\"\n",
        "#array[2]=\"item three\"\n",
        "....\n",
        "\n",
        "for i in range(3):\n",
        "  #overwriting item in each loop\n",
        "  item = input(f\"item{(i+1)}:\")\n",
        "  #store items in 3 varaibles or list/array/set/dictionary\n"
      ],
      "metadata": {
        "colab": {
          "base_uri": "https://localhost:8080/"
        },
        "id": "5XyUmZYGJNM0",
        "outputId": "82874baf-c621-4a0c-c899-403b2b90f1d8"
      },
      "execution_count": 16,
      "outputs": [
        {
          "name": "stdout",
          "output_type": "stream",
          "text": [
            "item1:item one\n",
            "item2:item two\n",
            "item3:item three\n"
          ]
        }
      ]
    },
    {
      "cell_type": "code",
      "source": [
        "#random-demo-3.py\n",
        "import random\n",
        "\n",
        "#num = random.randint(0,9)\n",
        "num = random.randint(1,10)\n",
        "print(\"random number: \", num)\n"
      ],
      "metadata": {
        "colab": {
          "base_uri": "https://localhost:8080/"
        },
        "id": "Hb5MWLLoM5Sj",
        "outputId": "e44cb51e-6df8-4ea5-b5ab-ea94e08399f4"
      },
      "execution_count": 18,
      "outputs": [
        {
          "output_type": "stream",
          "name": "stdout",
          "text": [
            "random number:  4\n"
          ]
        }
      ]
    },
    {
      "cell_type": "code",
      "source": [
        "#random-loop-demo-3.py\n",
        "import random\n",
        "\n",
        "num = random.randint(1,5)\n",
        "\n",
        "print(\"random num: \", num)\n",
        "\n",
        "for i in range(num):\n",
        "  rprice = random.randint(1,200)\n",
        "  print(f\"num: {i} -> {(1+i)}, price: {rprice}\")\n"
      ],
      "metadata": {
        "colab": {
          "base_uri": "https://localhost:8080/"
        },
        "id": "lNAbzo4BNgiz",
        "outputId": "5c2db828-1b67-48ee-c3d1-d5613954cac2"
      },
      "execution_count": 25,
      "outputs": [
        {
          "output_type": "stream",
          "name": "stdout",
          "text": [
            "random num:  3\n",
            "num: 0 -> 1, price: 71\n",
            "num: 1 -> 2, price: 42\n",
            "num: 2 -> 3, price: 31\n"
          ]
        }
      ]
    },
    {
      "cell_type": "code",
      "source": [
        "#random-loop-demo-4.py\n",
        "import random\n",
        "\n",
        "num = random.randint(1,5)\n",
        "print(\"random num: \", num)\n",
        "\n",
        "i = 0\n",
        "#while i < num:\n",
        "while (i < num):\n",
        "  print(f\"num: {i} -> {(1+i)}\")\n",
        "  #i = i + 1\n",
        "  i += 1\n"
      ],
      "metadata": {
        "id": "-FNw4T48T-cD"
      },
      "execution_count": null,
      "outputs": []
    },
    {
      "cell_type": "code",
      "source": [
        "#random-if-demo-1.py\n",
        "import random\n",
        "\n",
        "num = random.randint(1,5)\n",
        "print(\"random num: \", num)\n",
        "\n",
        "#conditional statement - if true/false\n",
        "if (num >= 3):\n",
        "  #true\n",
        "  print(f\"** {num} >= 2\")\n",
        "else:\n",
        "  #false\n",
        "  print(f\"** num={num}\")\n"
      ],
      "metadata": {
        "colab": {
          "base_uri": "https://localhost:8080/"
        },
        "id": "lWpW1T9YV1q6",
        "outputId": "7aac90f9-6d99-4dff-8631-d5eeb2edcf23"
      },
      "execution_count": 27,
      "outputs": [
        {
          "output_type": "stream",
          "name": "stdout",
          "text": [
            "random num:  4\n",
            "** 4 >= 2\n"
          ]
        }
      ]
    }
  ]
}
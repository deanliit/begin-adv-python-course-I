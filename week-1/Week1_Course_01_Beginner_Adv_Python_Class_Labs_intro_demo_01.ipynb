{
  "nbformat": 4,
  "nbformat_minor": 0,
  "metadata": {
    "colab": {
      "provenance": []
    },
    "kernelspec": {
      "name": "python3",
      "display_name": "Python 3"
    },
    "language_info": {
      "name": "python"
    }
  },
  "cells": [
    {
      "cell_type": "markdown",
      "source": [
        "**Introduction** to Python\n",
        "- text is in Markdown format\n",
        "\n",
        "### Class Demo labs avaliable on class github\n",
        "- email github link\n"
      ],
      "metadata": {
        "id": "7BCWFNpMH8MS"
      }
    },
    {
      "cell_type": "code",
      "execution_count": null,
      "metadata": {
        "id": "RZslGP9EFTXA"
      },
      "outputs": [],
      "source": [
        "#Week 1 - Class demo -1\n",
        "\n",
        "#python single line comment\n",
        "\n",
        "#google colabs notebook\n",
        "#python notebooks\n",
        "#jupyter notebook\n",
        "#coding notebooks in other languages\n",
        "\n",
        "#write/run python code\n",
        "#schedule a notbook to be ran\n",
        "\n",
        "print(\"intro to python 3.x\")\n"
      ]
    },
    {
      "cell_type": "code",
      "source": [
        "#other languages, javascript, HTML, R, Other\n",
        "%%javascript\n",
        "alert(\"intro to javascript\")\n"
      ],
      "metadata": {
        "colab": {
          "base_uri": "https://localhost:8080/",
          "height": 17
        },
        "id": "CpcqPrIAH1Zm",
        "outputId": "a6a33f2c-f9ec-476f-8271-9c4d7bc0e7b1"
      },
      "execution_count": 3,
      "outputs": [
        {
          "output_type": "display_data",
          "data": {
            "text/plain": [
              "<IPython.core.display.Javascript object>"
            ],
            "application/javascript": [
              "alert(\"intro to javascript\")\n"
            ]
          },
          "metadata": {}
        }
      ]
    },
    {
      "cell_type": "code",
      "source": [
        "\"\"\"\n",
        "-- Demo #1 --\n",
        "reccomended:\n",
        "python multi-line\n",
        "comment\n",
        "\"\"\"\n",
        "\n",
        "'''\n",
        "multi-line\n",
        "comment\n",
        "'''\n",
        "\n",
        "#intro to variables - string - data type\n",
        "title = \"Introduction to python \"\n",
        "version = '3.0'\n",
        "\n",
        "#combine strings ie: string concatination\n",
        "print(title + version)\n"
      ],
      "metadata": {
        "colab": {
          "base_uri": "https://localhost:8080/"
        },
        "id": "hX1iH1_rKQDn",
        "outputId": "a3f7f0f1-32c0-4c04-d171-4abd096d244a"
      },
      "execution_count": 4,
      "outputs": [
        {
          "output_type": "stream",
          "name": "stdout",
          "text": [
            "Introduction to python 3.0\n"
          ]
        }
      ]
    },
    {
      "cell_type": "code",
      "source": [
        "\"\"\"\n",
        "Demo #2\n",
        "\"\"\"\n",
        "\n",
        "#intro to variables - string - data type\n",
        "title = \"Introduction to python \"\n",
        "\n",
        "#number - floating point data type\n",
        "version = 3.0\n",
        "\n",
        "#combine strings ie: string concatination\n",
        "#error concatinating string to float - please convert floating point to string\n",
        "#TypeError: can only concatenate str (not \"float\") to str\n",
        "#print(title + version)\n",
        "print(title + str(version))\n",
        "\n"
      ],
      "metadata": {
        "colab": {
          "base_uri": "https://localhost:8080/"
        },
        "id": "YGOYsh0tP0hn",
        "outputId": "c59ed6aa-38c0-4aa4-9816-8ae053b45950"
      },
      "execution_count": 6,
      "outputs": [
        {
          "output_type": "stream",
          "name": "stdout",
          "text": [
            "Introduction to python 3.0\n"
          ]
        }
      ]
    }
  ]
}
{
  "nbformat": 4,
  "nbformat_minor": 0,
  "metadata": {
    "colab": {
      "provenance": []
    },
    "kernelspec": {
      "name": "python3",
      "display_name": "Python 3"
    },
    "language_info": {
      "name": "python"
    }
  },
  "cells": [
    {
      "cell_type": "markdown",
      "source": [
        "## Course book Beginner/Intermediate Labs and exercises\n",
        "- examples from course book - intermediate section\n",
        "\n",
        "### Course I - Summary Introduction to Python\n",
        "- https://www.w3schools.com/python/python_intro.asp\n",
        "\n",
        "variables if, Loops, Iterators\n",
        "\n",
        "Input\n",
        "\n",
        "Data structure\n",
        " - arry - save data type\n",
        " - tuple - readonly list\n",
        " - list - can contain duplicates, not sorted\n",
        " - set - can not contain dupliates, not sorted\n",
        " - hashmap - key/value paire\n",
        " - queue, stacks, priorityqueue\n",
        " - array, comprehension\n",
        "- other\n"
      ],
      "metadata": {
        "id": "kE8vpH99iWQG"
      }
    },
    {
      "cell_type": "markdown",
      "source": [
        "<pre>\n",
        "\n",
        "\n",
        "# download python 3.x or latest\n",
        "https://www.python.org/downloads/\n",
        "\n",
        "Introduction to Python\n",
        "https://www.w3schools.com/python/python_intro.asp\n",
        "\n",
        "google colabs notebook introduction\n",
        "https://colab.research.google.com/\n",
        "\n",
        "vs.code - extension\n",
        "https://code.visualstudio.com/download\n",
        "\n",
        "course ebooks\n",
        "----------------------------------------------------------\n",
        "Introduction to computing using python 2nd edition\n",
        "\n",
        "-------------------------------------------------------------------------\n",
        "Introduction to Python Topic overview\n",
        "-------------------------------------------------------------------------\n",
        "- google colabs notebook\n",
        "- vs.code , pycharm\n",
        ". python data type\n",
        "- python main app  __name__\n",
        ". methods\n",
        ". intro to data structures\n",
        ". list, set, map\n",
        ". looping, if, while\n",
        ". pip install\n",
        ". Python web page screen scraping, web bots (pip install BeautifulSoup, Requests)\n",
        ". Intro to Pandas, Numpy\n",
        ". intro to SQL using python\n",
        ". python pipenv\n",
        "  python veirtual environments\n",
        ". input(\"item1\")\n",
        ". module import  \n",
        ". try/except , try/catch\n",
        ". parameter array: *args, **kvargs\n",
        ". index slicers, slicers, slicing\n",
        ". list comprehension, slicers\n",
        ". combining - slicers and lisst comprehension  \n",
        ". python oop\n",
        ". lamda functions\n",
        ". other\n",
        "\n",
        "</pre>"
      ],
      "metadata": {
        "id": "eQuJawRaQIcC"
      }
    },
    {
      "cell_type": "code",
      "source": [
        "#Introduction to Python\n",
        "\n",
        "'''\n",
        "Introduction to python\n",
        "'''\n",
        "\n",
        "print(\"Introduction to python\")\n"
      ],
      "metadata": {
        "id": "dWufRO8JQSIO"
      },
      "execution_count": null,
      "outputs": []
    },
    {
      "cell_type": "markdown",
      "source": [
        "### Agency references\n",
        "-\n",
        "\n",
        "### job boards\n",
        "-\n",
        "- flexjobs.com\n",
        "- 30 days free\n",
        "- 1 year $70 per year\n",
        "\n",
        "### Consulting (fullt-time)\n",
        "- infosys\n",
        "- research local consulting companies ie: ny, nj\n",
        "- https://www.inven.ai/company-lists/top-25-it-consulting-companies-in-new-york\n",
        "- https://www.theconsultingreport.com/the-top-100-it-consulting-and-services-companies-of-2021/\n",
        "\n",
        "### Consultant and employee\n",
        "- certify\n",
        "\n",
        "## indeed, linked job example\n",
        "-\n",
        "\n",
        "## sample resume\n",
        "-\n",
        "\n",
        "\n",
        "\n"
      ],
      "metadata": {
        "id": "QKUdraqfv5_A"
      }
    },
    {
      "cell_type": "code",
      "source": [
        "#Python notebook - googlre colabs notebook\n",
        "#also called pythpn jupyter notebook\n",
        "# extension: .ipynb\n",
        "\n",
        "#notebooks - used in industry to:\n",
        "# team colaboration\n",
        "# python data science data flow jobs -\n",
        "# ie: ETL - Extract transform Load\n",
        "#\n",
        "#- schedule notebook jobs\n",
        "#\n",
        "# write notebooks in other progrmanning languages: javascript, R, Other\n",
        "#\n",
        "# %%javascript\n",
        "# alert(\"intro to javascript\")\n",
        "#\n",
        "\n",
        "#Python single line comment\n",
        "\n",
        "\"\"\"\n",
        "\n",
        "Python\n",
        "mult-line comment\n",
        "\n",
        "\"\"\"\n",
        "\n",
        "print(\"Introduction to python\")\n"
      ],
      "metadata": {
        "id": "AVoi9RguOebs"
      },
      "execution_count": null,
      "outputs": []
    },
    {
      "cell_type": "code",
      "source": [
        "%%javascript\n",
        "alert(\"intro to javascript\")\n"
      ],
      "metadata": {
        "id": "IrZLy5VpOfpT"
      },
      "execution_count": null,
      "outputs": []
    },
    {
      "cell_type": "markdown",
      "source": [
        "**Introduction** to Python\n",
        "- text is in Markdown format\n",
        "\n",
        "### Class Demo labs avaliable on class github\n",
        "- email github link\n",
        "https://github.com/deanliit/begin-adv-python-course-I\n"
      ],
      "metadata": {
        "id": "IJOClhiqbzEw"
      }
    },
    {
      "cell_type": "code",
      "source": [
        "\n",
        "#Week 1 - Class demo -1\n",
        "\n",
        "#python single line comment\n",
        "\n",
        "#google colabs notebook\n",
        "#python notebooks\n",
        "#jupyter notebook\n",
        "#coding notebooks in other languages\n",
        "\n",
        "#write/run python code\n",
        "#schedule a notbook to be ran\n",
        "\n",
        "print(\"intro to python 3.x\")\n",
        "\n"
      ],
      "metadata": {
        "id": "8zehVVfDbuMR"
      },
      "execution_count": null,
      "outputs": []
    },
    {
      "cell_type": "code",
      "source": [
        "#other languages, javascript, HTML, R, Other\n",
        "%%javascript\n",
        "alert(\"intro to javascript\")\n"
      ],
      "metadata": {
        "id": "lDGdxQgub8NZ"
      },
      "execution_count": null,
      "outputs": []
    },
    {
      "cell_type": "code",
      "source": [
        "\"\"\"\n",
        "-- Demo #1 --\n",
        "reccomended:\n",
        "python multi-line\n",
        "comment\n",
        "\"\"\"\n",
        "\n",
        "'''\n",
        "multi-line\n",
        "comment\n",
        "'''\n",
        "\n",
        "#intro to variables - string - data type\n",
        "title = \"Introduction to python \"\n",
        "version = '3.0'\n",
        "\n",
        "#combine strings ie: string concatination\n",
        "print(title + version)\n"
      ],
      "metadata": {
        "id": "rZDSVGMVb_2W"
      },
      "execution_count": null,
      "outputs": []
    },
    {
      "cell_type": "code",
      "source": [
        "\"\"\"\n",
        "Demo #2\n",
        "\"\"\"\n",
        "\n",
        "#intro to variables - string - data type\n",
        "title = \"Introduction to python \"\n",
        "\n",
        "#number - floating point data type\n",
        "version = 3.0\n",
        "\n",
        "#combine strings ie: string concatination\n",
        "#error concatinating string to float - please convert floating point to string\n",
        "#TypeError: can only concatenate str (not \"float\") to str\n",
        "#print(title + version)\n",
        "print(title + str(version))\n",
        "\n"
      ],
      "metadata": {
        "id": "vlbZuxx4cA1w"
      },
      "execution_count": null,
      "outputs": []
    },
    {
      "cell_type": "code",
      "source": [
        "#couse book examples: page 25\n",
        "#w3schools.com - into to python\n",
        "#install latest python\n",
        "#into to vs.code - install\n",
        "\n",
        "\"\"\"\n",
        "\n",
        "# download python 3.x or latest\n",
        "https://www.python.org/downloads/\n",
        "\n",
        "Introduction to Python\n",
        "https://www.w3schools.com/python/python_intro.asp\n",
        "\n",
        "google colabs notebook introduction\n",
        "https://colab.research.google.com/\n",
        "\n",
        "vs.code - extension\n",
        "https://code.visualstudio.com/download\n",
        "\n",
        "\"\"\""
      ],
      "metadata": {
        "id": "CKPA07m0Oiys"
      },
      "execution_count": null,
      "outputs": []
    }
  ]
}
{
  "nbformat": 4,
  "nbformat_minor": 0,
  "metadata": {
    "colab": {
      "provenance": []
    },
    "kernelspec": {
      "name": "python3",
      "display_name": "Python 3"
    },
    "language_info": {
      "name": "python"
    }
  },
  "cells": [
    {
      "cell_type": "markdown",
      "source": [
        "#week1-demo-#3\n",
        "\n",
        "#github course demos and examples\n",
        "\n",
        "- https://github.com/deanliit/begin-adv-python-course-I\n",
        "\n",
        "references:\n",
        "\n",
        "https://www.w3schools.com/python/python_intro.asp\n",
        "\n",
        "course book examples 25-39\n"
      ],
      "metadata": {
        "id": "0WyevM_tcup1"
      }
    },
    {
      "cell_type": "code",
      "execution_count": 1,
      "metadata": {
        "colab": {
          "base_uri": "https://localhost:8080/"
        },
        "id": "fR3MgTLtOTp0",
        "outputId": "d8ccc576-fd20-4f9a-b1ed-b3a90b60a9ac"
      },
      "outputs": [
        {
          "output_type": "stream",
          "name": "stdout",
          "text": [
            "30\n"
          ]
        }
      ],
      "source": [
        "#week1-demo-#3\n",
        "\n",
        "\n",
        "\"\"\"\n",
        "------------------------------------------------------\n",
        "Demo labs Theme case study: Invoice/Inventory system\n",
        "------------------------------------------------------\n",
        "\n",
        "-----------------------\n",
        "Class lab demo #3\n",
        "-----------------------\n",
        "\n",
        ".1) Create a program to calcualte invoice items\n",
        "    Display the total of invoice items.\n",
        "\n",
        "examples:\n",
        "item1 = 10\n",
        "item2 = 20\n",
        "\n",
        "total 20\n",
        "\n",
        "- creating varibles\n",
        "- data types: string, integer, float\n",
        "- converting, casting datatype\n",
        "- other\n",
        "\n",
        "\"\"\"\n",
        "\n",
        "#create variable - data type int\n",
        "item1 = 10\n",
        "item2 = 20\n",
        "\n",
        "#compute value of tow variebles\n",
        "total = item1 + item2\n",
        "\n",
        "#print outout - convert number to string = casting\n",
        "print(str(total))\n"
      ]
    },
    {
      "cell_type": "code",
      "source": [
        "#Class lab demo #3.1\n",
        "\n",
        "#create variable - data type int\n",
        "item1 = 10\n",
        "item2 = 20\n",
        "#create floating point number, decimal point\n",
        "item3 = 30.1\n",
        "\n",
        "#compute value of tow variebles\n",
        "total = item1 + item2 + item3\n",
        "\n",
        "#print outout - convert number to string = casting\n",
        "print(str(total))\n"
      ],
      "metadata": {
        "colab": {
          "base_uri": "https://localhost:8080/"
        },
        "id": "QjInua6LS5aX",
        "outputId": "1b9ca61e-5372-4602-ac60-3a61400affe4"
      },
      "execution_count": 4,
      "outputs": [
        {
          "output_type": "stream",
          "name": "stdout",
          "text": [
            "60.1\n"
          ]
        }
      ]
    },
    {
      "cell_type": "code",
      "source": [
        "#Class lab demo #3.2\n",
        "#-- introduction to casting - error when casting 1 data type to another\n",
        "\n",
        "#create variable - data type int\n",
        "item1 = 10\n",
        "item2 = 20\n",
        "#create floating point number, decimal point\n",
        "item3 = 30.1\n",
        "item4 = \"40.2\" #string\n",
        "\n",
        "#compute value of tow variebles\n",
        "\n",
        "#cast string to int - no decimal point\n",
        "# error - python string \"40.2\", includes decimals, python converts/expect a float when casting\n",
        "#ValueError: invalid literal for int() with base 10: '40.2'\n",
        "#total = item1 + item2 + item3 + int(item4)\n",
        "\n",
        "#cast string to float - include decimal point\n",
        "total = item1 + item2 + item3 + float(item4)\n",
        "#total = item1 + item2 + item3 + int(float(item4))\n",
        "\n",
        "#print outout - convert number to string = casting\n",
        "#print(str(total))\n",
        "\n",
        "#roud number to .xxx decimal places\n",
        "#print(str(round(total,2)))\n",
        "\n",
        "rtotal = round(total,2)\n",
        "print(str(rtotal))\n"
      ],
      "metadata": {
        "colab": {
          "base_uri": "https://localhost:8080/"
        },
        "id": "lx0DVS35T9sQ",
        "outputId": "8205cd2f-e9da-4d0b-d0b9-58991eef75a3"
      },
      "execution_count": 7,
      "outputs": [
        {
          "output_type": "stream",
          "name": "stdout",
          "text": [
            "100.3\n"
          ]
        }
      ]
    },
    {
      "cell_type": "code",
      "source": [
        "#couse book examples: page 25\n",
        "#w3schools.com - into to python\n",
        "#install latest python\n",
        "#into to vs.code - install\n",
        "\n",
        "\"\"\"\n",
        "Introduction to Python\n",
        "https://www.w3schools.com/python/python_intro.asp\n",
        "\n",
        "# download python 3.x or latest\n",
        "https://www.python.org/downloads/\n",
        "\n",
        "vs.code - extension\n",
        "https://code.visualstudio.com/download\n",
        "\n",
        "\"\"\""
      ],
      "metadata": {
        "id": "JHK30ivqbl7u"
      },
      "execution_count": null,
      "outputs": []
    }
  ]
}
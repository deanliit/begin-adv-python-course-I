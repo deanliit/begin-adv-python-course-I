{
  "nbformat": 4,
  "nbformat_minor": 0,
  "metadata": {
    "colab": {
      "provenance": []
    },
    "kernelspec": {
      "name": "python3",
      "display_name": "Python 3"
    },
    "language_info": {
      "name": "python"
    }
  },
  "cells": [
    {
      "cell_type": "markdown",
      "source": [
        "#Python Course I - class demo and homework assignments\n",
        "- Google Classroom - Module 1 - 3\n",
        "\n",
        "### HomeWork/Assignments\n",
        "\n",
        "- Week 1-3\n",
        "\n",
        "- Reading:\n",
        "\n",
        "https://www.w3schools.com/python/python_intro.asp\n",
        "- Variables, Data Type, Casting, Number, Operations\n",
        "\n",
        "- Practice exercises:\n",
        "- Course book example page 25\n",
        "\n",
        "\n"
      ],
      "metadata": {
        "id": "NAPiXa4rjjxl"
      }
    },
    {
      "cell_type": "markdown",
      "source": [
        "#github course demos and examples\n",
        "\n",
        "- https://github.com/deanliit/begin-adv-python-course-I\n",
        "\n",
        "### Introduction github\n",
        "- https://www.w3schools.com/git/\n",
        "- integrate visual code with Github as well?\n",
        "- Course II\n",
        "  - creating github repositories\n",
        "  - commit, updating and pushing python code to github\n",
        "  - creating github branches\n",
        "\n",
        "references:\n",
        "\n",
        "https://www.w3schools.com/python/python_intro.asp\n",
        "\n",
        "- course book examples 25-39\n",
        "\n",
        "\n",
        "# download python 3.x or latest\n",
        "- https://www.python.org/downloads/\n",
        "\n",
        "> command line\n",
        "\n",
        "> python --version\n",
        "\n",
        "vs.code - extension\n",
        "- https://code.visualstudio.com/download\n"
      ],
      "metadata": {
        "id": "0WyevM_tcup1"
      }
    },
    {
      "cell_type": "markdown",
      "source": [
        "### Introduction to vs.code\n",
        "\n",
        "- create project folder ie: \"c:\\python-dev-24\"\n",
        "- start vs.code\n",
        "- add folder to workspace\n",
        "- save workspace\n",
        "- create python demo folder ie: \"python-class-labs\"\n",
        "- create a python file: \"demo1.py\"\n",
        "- enter python code\n",
        "- save file ie: \"ctrl+s\"\n",
        "- right-click on file name \"demo1.py\"\n",
        "- select, open in integrated terminal\n",
        "- windows: dir\n",
        "- macos/linus: ls\n",
        "- windows: cls\n",
        "- macos/linux: clear\n",
        "- python demo1.py\n",
        "- exit\n",
        "- or delete icon\n",
        "\n",
        "#### command line terminal tips\n",
        "up/down arrow key to scroll to previous/next commands\n",
        "\n",
        "press tab to complete a command\n",
        "\n",
        "example: python demo3 ---> tab\n",
        "\n",
        "\n",
        "## Installing extensions\n",
        "- install vs.code extensions\n",
        "- code runner - runs python code from file instead of command terminal\n",
        "\n",
        "1. select extensions icon\n",
        "2. search for extension\n",
        "    \n",
        "    code runner\n",
        "    by Jun Han\n",
        "\n",
        "  ** can install other code runners **\n",
        "  \n",
        "3. install extension\n",
        "* use extension from menu or right-clicking on file\n",
        "\n"
      ],
      "metadata": {
        "id": "yKqLl8GNhNpn"
      }
    },
    {
      "cell_type": "markdown",
      "source": [
        "### mathimatical expression or mathamital operations ()+,-%*^\n",
        "<pre>\n",
        "# ie math formulas - operations ()+,-%*^\n",
        "#\n",
        "#a = b + c\n",
        "#a = b * c\n",
        "#a = (b/2) + (c*3) .... etc..\n",
        "#\n",
        "#total = item1 + item2 + item3 + item4\n",
        "</pre>"
      ],
      "metadata": {
        "id": "9N0jjiJeSEpD"
      }
    },
    {
      "cell_type": "code",
      "execution_count": null,
      "metadata": {
        "colab": {
          "base_uri": "https://localhost:8080/"
        },
        "id": "fR3MgTLtOTp0",
        "outputId": "d8ccc576-fd20-4f9a-b1ed-b3a90b60a9ac"
      },
      "outputs": [
        {
          "output_type": "stream",
          "name": "stdout",
          "text": [
            "30\n"
          ]
        }
      ],
      "source": [
        "#-- colabs-example-1.py\n",
        "\n",
        "\n",
        "\"\"\"\n",
        "------------------------------------------------------\n",
        "Demo labs Theme case study: Invoice/Inventory system\n",
        "------------------------------------------------------\n",
        "\n",
        "-----------------------\n",
        "Class lab demo #3\n",
        "-----------------------\n",
        "\n",
        ".1) Create a program to calcualte invoice items\n",
        "    Display the total of invoice items.\n",
        "\n",
        "examples:\n",
        "item1 = 10\n",
        "item2 = 20\n",
        "\n",
        "total 20\n",
        "\n",
        "- creating varibles\n",
        "- data types: string, integer, float\n",
        "- converting, casting datatype\n",
        "- other\n",
        "\n",
        "\"\"\"\n",
        "\n",
        "item1 = 10\n",
        "item2 = 15\n",
        "total = item1 + item2\n",
        "\n",
        "#print(total)\n",
        "print(\"total: \" + str(total))\n"
      ]
    },
    {
      "cell_type": "code",
      "source": [
        "# demo3.py\n",
        "\n",
        "#Class lab demo #3.1\n",
        "\n",
        "#create variable - data type int\n",
        "item1 = 10\n",
        "item2 = 20\n",
        "#create floating point number, decimal point\n",
        "item3 = 30.1\n",
        "\n",
        "#compute value of tow variebles\n",
        "\n",
        "#print outout - convert number to string = casting\n"
      ],
      "metadata": {
        "colab": {
          "base_uri": "https://localhost:8080/"
        },
        "id": "QjInua6LS5aX",
        "outputId": "1b9ca61e-5372-4602-ac60-3a61400affe4"
      },
      "execution_count": null,
      "outputs": [
        {
          "output_type": "stream",
          "name": "stdout",
          "text": [
            "60.1\n"
          ]
        }
      ]
    },
    {
      "cell_type": "code",
      "source": [
        "# demo4.py\n",
        "#-- introduction to casting - error when casting 1 data type to another\n",
        "\n",
        "#create variable - data type int\n",
        "item1 = 10\n",
        "item2 = 20\n",
        "#create floating point number, decimal point\n",
        "item3 = 30.1\n",
        "item4 = \"40.2\" #string\n",
        "\n",
        "#compute value of tow variebles\n",
        "#\n",
        "#mathimatical expression or mathamital operations ()+,-%*^\n",
        "# ie math formulas - operations ()+,-%*^\n",
        "#\n",
        "#a = b + c\n",
        "#a = b * c\n",
        "#a = (b/2) + (c*3) .... etc..\n",
        "#\n",
        "#total = item1 + item2 + item3 + float(item4)\n",
        "total = (item1 + item2 + item3 + float(item4))\n",
        "\n",
        "#cast string to int - no decimal point\n",
        "# error - python string \"40.2\", includes decimals, python converts/expect a float when casting\n",
        "#ValueError: invalid literal for int() with base 10: '40.2'\n",
        "\n",
        "#cast string to float - include decimal point\n",
        "\n",
        "#print outout - convert number to string = casting\n",
        "#print(\"total: \" + str(total))\n",
        "\n",
        "#round number to .xxx decimal places\n",
        "rtotal = round(total,2)\n",
        "#print(\"total: \" + str(round(total,2)))\n",
        "print(\"total: \" + str(rtotal))\n"
      ],
      "metadata": {
        "colab": {
          "base_uri": "https://localhost:8080/"
        },
        "id": "lx0DVS35T9sQ",
        "outputId": "db0bc273-9003-42c8-8556-48e34d2829fc"
      },
      "execution_count": null,
      "outputs": [
        {
          "output_type": "stream",
          "name": "stdout",
          "text": [
            "total: 100.3\n"
          ]
        }
      ]
    },
    {
      "cell_type": "code",
      "source": [
        "#vs.code  or colabs notebook\n",
        "#-- input-prompt-demo-1.py --\n",
        "\"\"\"\n",
        "input is used to create python conaole input programs\n",
        "when input from the keybpard is required\n",
        "ie: batch programs etc..\n",
        "\n",
        "ctrl+c   --- cancel input\n",
        "\"\"\"\n",
        "## retrieve string data from keyboard input\n",
        "#item1 = input()  #string\n",
        "item1 = input(\"item1: \")  #string\n",
        "item2 = input(\"item2: \")  #string\n",
        "\n",
        "#print(\"item1: \" + item1)\n",
        "#print(\"item2: \" + item2)\n",
        "\n",
        "#- calculte input numbers and display total, optional: round\n",
        "\n",
        "#total = (int(item1) + int(item2))\n",
        "total = (float(item1) + float(item2))\n",
        "#rtotal = round(total)\n",
        "rtotal = round(total,2)\n",
        "\n",
        "#print(\"total: \" + str(round(float(item1) + float(item2))))\n",
        "#print(\"total: \" + str(round(total))\n",
        "print(\"total: \" + str(rtotal))\n"
      ],
      "metadata": {
        "id": "JHK30ivqbl7u"
      },
      "execution_count": null,
      "outputs": []
    }
  ]
}
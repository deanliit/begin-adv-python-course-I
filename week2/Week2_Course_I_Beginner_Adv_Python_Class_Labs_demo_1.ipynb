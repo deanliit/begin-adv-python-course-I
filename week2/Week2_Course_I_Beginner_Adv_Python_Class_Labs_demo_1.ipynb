{
  "nbformat": 4,
  "nbformat_minor": 0,
  "metadata": {
    "colab": {
      "provenance": []
    },
    "kernelspec": {
      "name": "python3",
      "display_name": "Python 3"
    },
    "language_info": {
      "name": "python"
    }
  },
  "cells": [
    {
      "cell_type": "markdown",
      "source": [
        "#github course demos and examples\n",
        "\n",
        "- https://github.com/deanliit/begin-adv-python-course-I\n",
        "\n",
        "### Introduction github\n",
        "- https://www.w3schools.com/git/\n",
        "- integrate visual code with Github as well?\n",
        "- Course II\n",
        "  - creating github repositories\n",
        "  - commit, updating and pushing python code to github\n",
        "  - creating github branches\n",
        "\n",
        "references:\n",
        "\n",
        "https://www.w3schools.com/python/python_intro.asp\n",
        "\n",
        "- course book examples 25-39\n",
        "\n",
        "\n",
        "# download python 3.x or latest\n",
        "- https://www.python.org/downloads/\n",
        "\n",
        "> command line\n",
        "\n",
        "> python --version\n",
        "\n",
        "vs.code - extension\n",
        "- https://code.visualstudio.com/download\n"
      ],
      "metadata": {
        "id": "0WyevM_tcup1"
      }
    },
    {
      "cell_type": "markdown",
      "source": [
        "### Introduction to vs.code\n",
        "\n",
        "- create project folder ie: \"c:\\python-dev-24\"\n",
        "- start vs.code\n",
        "- add folder to workspace\n",
        "- save workspace\n",
        "- create python demo folder ie: \"python-class-labs\"\n",
        "- create a python file: \"demo1.py\"\n",
        "- enter python code\n",
        "- save file ie: \"ctrl+s\"\n",
        "- right-click on file name \"demo1.py\"\n",
        "- select, open in integrated terminal\n",
        "- windows: dir\n",
        "- macos/linus: ls\n",
        "- windows: cls\n",
        "- macos/linux: clear\n",
        "- python demo1.py\n",
        "- exit\n",
        "- or delete icon\n",
        "\n",
        "#### command line terminal tips\n",
        "up/down arrow key to scroll to previous/next commands\n",
        "\n",
        "## Installing extensions\n",
        "- install vs.code extensions\n",
        "- code runner\n",
        "\n"
      ],
      "metadata": {
        "id": "yKqLl8GNhNpn"
      }
    },
    {
      "cell_type": "markdown",
      "source": [
        "### window: Python version error\n",
        "-- python install path issue\n",
        "\n",
        "<pre>\n",
        "i am getting the same message as Lamidi\n",
        "mine says: Program 'python.exe' failed to run: The system cannot find the path specifiedAt line:1 char:1\n",
        "+ python --version\n",
        "+ ~~~~~~~~~~~~~~~~.\n",
        "At line:1 char:1\n",
        "+ python --version\n",
        "+ ~~~~~~~~~~~~~~~~\n",
        "    + CategoryInfo          : ResourceUnavailable: (:) [], ApplicationFailedException\n",
        "    + FullyQualifiedErrorId : NativeCommandFailed\n",
        "</pre>\n",
        "\n",
        "### Reccomended Solution:\n",
        "\n",
        "1. re-install pythno 3.x\n",
        "  - select the option to add python to your global path\n",
        "\n",
        "\n"
      ],
      "metadata": {
        "id": "qdepbk0MGlY1"
      }
    },
    {
      "cell_type": "code",
      "execution_count": null,
      "metadata": {
        "colab": {
          "base_uri": "https://localhost:8080/"
        },
        "id": "fR3MgTLtOTp0",
        "outputId": "d8ccc576-fd20-4f9a-b1ed-b3a90b60a9ac"
      },
      "outputs": [
        {
          "output_type": "stream",
          "name": "stdout",
          "text": [
            "30\n"
          ]
        }
      ],
      "source": [
        "#week2-demo-#1 - using vs.code\n",
        "\n",
        "\n",
        "\"\"\"\n",
        "------------------------------------------------------\n",
        "Demo labs Theme case study: Invoice/Inventory system\n",
        "------------------------------------------------------\n",
        "\n",
        "-----------------------\n",
        "Class lab demo #3\n",
        "-----------------------\n",
        "\n",
        ".1) Create a program to calcualte invoice items\n",
        "    Display the total of invoice items.\n",
        "\n",
        "examples:\n",
        "item1 = 10\n",
        "item2 = 20\n",
        "\n",
        "total 20\n",
        "\n",
        "- creating varibles\n",
        "- data types: string, integer, float\n",
        "- converting, casting datatype\n",
        "- other\n",
        "\n",
        "\"\"\"\n",
        "\n",
        "# demo1.py\n"
      ]
    },
    {
      "cell_type": "code",
      "source": [
        "# demo1.1.py\n",
        "\n",
        "#Class lab demo #3.1\n",
        "\n",
        "#create variable - data type int\n",
        "item1 = 10\n",
        "item2 = 20\n",
        "#create floating point number, decimal point\n",
        "item3 = 30.1\n",
        "\n",
        "#compute value of tow variebles\n",
        "\n",
        "#print outout - convert number to string = casting\n"
      ],
      "metadata": {
        "colab": {
          "base_uri": "https://localhost:8080/"
        },
        "id": "QjInua6LS5aX",
        "outputId": "1b9ca61e-5372-4602-ac60-3a61400affe4"
      },
      "execution_count": null,
      "outputs": [
        {
          "output_type": "stream",
          "name": "stdout",
          "text": [
            "60.1\n"
          ]
        }
      ]
    },
    {
      "cell_type": "code",
      "source": [
        "# demo1.2.py\n",
        "\n",
        "#Class lab demo #3.2\n",
        "#-- introduction to casting - error when casting 1 data type to another\n",
        "\n",
        "#create variable - data type int\n",
        "item1 = 10\n",
        "item2 = 20\n",
        "#create floating point number, decimal point\n",
        "item3 = 30.1\n",
        "item4 = \"40.2\" #string\n",
        "\n",
        "#compute value of tow variebles\n",
        "\n",
        "#cast string to int - no decimal point\n",
        "# error - python string \"40.2\", includes decimals, python converts/expect a float when casting\n",
        "#ValueError: invalid literal for int() with base 10: '40.2'\n",
        "\n",
        "#cast string to float - include decimal point\n",
        "\n",
        "#print outout - convert number to string = casting\n",
        "\n",
        "#roud number to .xxx decimal places\n",
        "\n"
      ],
      "metadata": {
        "colab": {
          "base_uri": "https://localhost:8080/"
        },
        "id": "lx0DVS35T9sQ",
        "outputId": "8205cd2f-e9da-4d0b-d0b9-58991eef75a3"
      },
      "execution_count": null,
      "outputs": [
        {
          "output_type": "stream",
          "name": "stdout",
          "text": [
            "100.3\n"
          ]
        }
      ]
    },
    {
      "cell_type": "code",
      "source": [
        "#intro to Input function\n"
      ],
      "metadata": {
        "id": "JHK30ivqbl7u"
      },
      "execution_count": null,
      "outputs": []
    }
  ]
}
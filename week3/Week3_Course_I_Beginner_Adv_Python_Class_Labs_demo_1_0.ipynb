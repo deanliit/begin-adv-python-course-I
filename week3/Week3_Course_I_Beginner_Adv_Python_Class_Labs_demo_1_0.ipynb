{
  "nbformat": 4,
  "nbformat_minor": 0,
  "metadata": {
    "colab": {
      "provenance": []
    },
    "kernelspec": {
      "name": "python3",
      "display_name": "Python 3"
    },
    "language_info": {
      "name": "python"
    }
  },
  "cells": [
    {
      "cell_type": "markdown",
      "source": [
        "#Python Course I - class demo and homework assignments\n",
        "- Google Classroom - Module 1 - 3\n",
        "\n",
        "### Demo Topics\n",
        "- input\n",
        "- sting.upper, lower\n",
        "- import - adding python modules/functions to memory\n",
        "- date / time, formatting date ie: datetime.strptime\n",
        "- random\n",
        "- range\n",
        "- for loop - loops for a fixed number of time\n",
        "- if - expression to evaluate left and right variable and return true/false\n",
        "- logical expressions, logical operatprs\n",
        "- Other\n",
        "\n",
        "#github course demos and examples\n",
        "\n",
        "- https://github.com/deanliit/begin-adv-python-course-I\n",
        "\n",
        "### HomeWork/Assignments\n",
        "\n",
        "- Week 1-3\n",
        "\n",
        "- Reading:\n",
        "\n",
        "https://www.w3schools.com/python/python_intro.asp\n",
        "- Variables, Data Type, Casting, Number, Operations\n",
        "\n",
        "- Practice exercises:\n",
        "- Course book example page 25\n",
        "\n",
        "\n"
      ],
      "metadata": {
        "id": "WTQyaSpLjFfU"
      }
    },
    {
      "cell_type": "markdown",
      "source": [
        "### Introduction to vs.code\n",
        "\n",
        "- create project folder ie: \"c:\\python-dev-24\"\n",
        "- start vs.code\n",
        "- add folder to workspace\n",
        "- save workspace\n",
        "- create python demo folder ie: \"python-class-labs\"\n",
        "- create a python file: \"demo1.py\"\n",
        "- enter python code\n",
        "- save file ie: \"ctrl+s\"\n",
        "- right-click on file name \"demo1.py\"\n",
        "- select, open in integrated terminal\n",
        "- windows: dir\n",
        "- macos/linus: ls\n",
        "- windows: cls\n",
        "- macos/linux: clear\n",
        "- python demo1.py\n",
        "- exit\n",
        "- or delete icon\n",
        "\n",
        "#### command line terminal tips\n",
        "up/down arrow key to scroll to previous/next commands\n",
        "\n",
        "press tab to complete a command\n",
        "\n",
        "example: python demo3 ---> tab\n",
        "\n",
        "\n",
        "## Installing extensions\n",
        "- install vs.code extensions\n",
        "- code runner - runs python code from file instead of command terminal\n",
        "\n",
        "1. select extensions icon\n",
        "2. search for extension\n",
        "    \n",
        "    code runner\n",
        "    by Jun Han\n",
        "\n",
        "  ** can install other code runners **\n",
        "  \n",
        "3. install extension\n",
        "* use extension from menu or right-clicking on file\n",
        "\n"
      ],
      "metadata": {
        "id": "yKqLl8GNhNpn"
      }
    },
    {
      "cell_type": "markdown",
      "source": [
        "### mathimatical expression or mathamital operations ()+,-%*^\n",
        "<pre>\n",
        "# ie math formulas - operations ()+,-%*^\n",
        "#\n",
        "#a = b + c\n",
        "#a = b * c\n",
        "#a = (b/2) + (c*3) .... etc..\n",
        "#\n",
        "#total = item1 + item2 + item3 + item4\n",
        "</pre>"
      ],
      "metadata": {
        "id": "9N0jjiJeSEpD"
      }
    },
    {
      "cell_type": "markdown",
      "source": [
        "## Logical expression\n",
        "<pre>\n",
        "Expression to evaluate left and righ variable and return true or false\n",
        "(), ==, <=, >=,\n",
        "true/false = a == b\n",
        "true/false = (a < b) or (a == b)\n",
        "true/false = a and b or c > d or e = g\n",
        "true/false = ((a and b) or (c > d) or (e == g))\n",
        "other\n",
        "\n",
        "</pre>"
      ],
      "metadata": {
        "id": "AIPQOkdVvDKp"
      }
    },
    {
      "cell_type": "code",
      "source": [
        "#-- input-prompt-demo-1.py --\n",
        "\"\"\"\n",
        "input is used to create python conaole input programs\n",
        "when input from the keybpard is required\n",
        "ie: batch programs etc..\n",
        "\n",
        "ctrl+c   --- cancel input\n",
        "\"\"\"\n",
        "## retrieve string data from keyboard input\n",
        "#item1 = input()  #string\n",
        "item1 = input(\"item1: \")  #string\n",
        "item2 = input(\"item2: \")  #string\n",
        "\n",
        "#print(\"item1: \" + item1)\n",
        "#print(\"item2: \" + item2)\n",
        "\n",
        "#- calculte input numbers and display total, optional: round\n",
        "\n",
        "#total = (int(item1) + int(item2))\n",
        "total = (float(item1) + float(item2))\n",
        "#rtotal = round(total)\n",
        "rtotal = round(total,2)\n",
        "\n",
        "#print(\"total: \" + str(round(float(item1) + float(item2))))\n",
        "#print(\"total: \" + str(round(total))\n",
        "print(\"total: \" + str(rtotal))\n"
      ],
      "metadata": {
        "id": "vag7WOdZhxXy"
      },
      "execution_count": null,
      "outputs": []
    },
    {
      "cell_type": "code",
      "source": [
        "#-- input-prompt-demo-2.py --\n",
        "\"\"\"\n",
        "prompt/input for name and price\n",
        "display: name in upper case and price\n",
        "\"\"\"\n",
        "\n",
        "item_name = input(\"name: \")\n",
        "item_price = input(\"price: \")\n",
        "\n",
        "#upper() - convert a string to upper case: also lower()\n",
        "#upper,lower is not avilable for numeric variables\n",
        "\n",
        "#item1 = 10\n",
        "#item.upper() #error - variable is not a string\n",
        "#str(item1).upper() - no error\n",
        "\n",
        "#print(item_name.upper() + str(item_price))\n",
        "#print(item_name.upper() + \" \" + str(item_price))\n",
        "\n",
        "#print(item_name.upper(), str(item_price))\n",
        "#print(item_name.upper(),\" \",str(item_price))\n",
        "\n",
        "print(f\"{item_name.upper()} {item_price}\")\n"
      ],
      "metadata": {
        "id": "9XvYXeGL1jFC"
      },
      "execution_count": null,
      "outputs": []
    },
    {
      "cell_type": "code",
      "source": [
        "#-- input-prompt-demo-3.py --\n",
        "\"\"\"\n",
        "prompt/input for name, date and price\n",
        "display: name in upper case, date and price\n",
        "ie: input(\"date: (mm/dd/yy): \")\n",
        "\"\"\"\n",
        "\n",
        "name1 = input(\"item name: \")\n",
        "#invalid \\ format use \\\\ ie: escape sequence \\\\ or \\\" or \\'\n",
        "date1 = input(\"date: mm/dd/yy: \")\n",
        "price1 = input(\"price: \")\n",
        "\n",
        "print(f\"{name1.upper()} {date1} {price1}\")\n",
        "\n"
      ],
      "metadata": {
        "id": "kMOhUn8V-YGW"
      },
      "execution_count": null,
      "outputs": []
    },
    {
      "cell_type": "code",
      "source": [
        "#-- input-prompt-demo-4.py --\n",
        "\n",
        "\"\"\"\n",
        "prompt/input for name and price\n",
        "display: name in upper case, current date and price\n",
        "ie:\n",
        "import datetime\n",
        "date = datetime.datetime.now()\n",
        "today = f\"{date.month} / {date.day} / {date.year}\"\n",
        "\"\"\"\n",
        "\n",
        "#import datetime library into memory\n",
        "import datetime\n",
        "import random\n",
        "#other\n",
        "\n",
        "name1 = input(\"item name: \")\n",
        "price1 = input(\"price: \")\n",
        "date1 = datetime.datetime.now()\n",
        "\n",
        "#print(date1)\n",
        "\n",
        "#format date/time\n",
        "#https://www.w3schools.com/python/python_datetime.asp\n",
        "today1 = f\"{date1.month}/{date1.day}/{date1.year}\"\n",
        "\n",
        "#print(date1.strftime(\"%B\"))\n",
        "\n",
        "#print(f\"{name1} {date1} {price1}\")\n",
        "print(f\"{name1} {today1} {price1}\")\n",
        "\n"
      ],
      "metadata": {
        "id": "B7RJIzDFEtZt"
      },
      "execution_count": null,
      "outputs": []
    }
  ]
}
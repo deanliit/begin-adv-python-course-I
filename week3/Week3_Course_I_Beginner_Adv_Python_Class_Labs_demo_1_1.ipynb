{
  "nbformat": 4,
  "nbformat_minor": 0,
  "metadata": {
    "colab": {
      "provenance": []
    },
    "kernelspec": {
      "name": "python3",
      "display_name": "Python 3"
    },
    "language_info": {
      "name": "python"
    }
  },
  "cells": [
    {
      "cell_type": "markdown",
      "source": [
        "#Python Course I - class demo and homework assignments\n",
        "- Google Classroom - Module 1 - 3\n",
        "\n",
        "### Demo Topics\n",
        "- input\n",
        "- sting.upper, lower\n",
        "- import - adding python modules/functions to memory\n",
        "- date / time, formatting date ie: datetime.strptime\n",
        "- random\n",
        "- range\n",
        "- for loop - loops for a fixed number of time\n",
        "- if - expression to evaluate left and right variable and return true/false\n",
        "- logical expressions, logical operatprs\n",
        "- Other\n",
        "\n",
        "#github course demos and examples\n",
        "\n",
        "- https://github.com/deanliit/begin-adv-python-course-I\n",
        "\n",
        "### HomeWork/Assignments\n",
        "\n",
        "- Week 1-3\n",
        "\n",
        "- Reading:\n",
        "\n",
        "https://www.w3schools.com/python/python_intro.asp\n",
        "- Variables, Data Type, Casting, Number, Operations\n",
        "\n",
        "- Practice exercises:\n",
        "- Course book example page 25\n",
        "\n",
        "\n"
      ],
      "metadata": {
        "id": "WTQyaSpLjFfU"
      }
    },
    {
      "cell_type": "markdown",
      "source": [
        "### Introduction to vs.code\n",
        "\n",
        "- create project folder ie: \"c:\\python-dev-24\"\n",
        "- start vs.code\n",
        "- add folder to workspace\n",
        "- save workspace\n",
        "- create python demo folder ie: \"python-class-labs\"\n",
        "- create a python file: \"demo1.py\"\n",
        "- enter python code\n",
        "- save file ie: \"ctrl+s\"\n",
        "- right-click on file name \"demo1.py\"\n",
        "- select, open in integrated terminal\n",
        "- windows: dir\n",
        "- macos/linus: ls\n",
        "- windows: cls\n",
        "- macos/linux: clear\n",
        "- python demo1.py\n",
        "- exit\n",
        "- or delete icon\n",
        "\n",
        "#### command line terminal tips\n",
        "up/down arrow key to scroll to previous/next commands\n",
        "\n",
        "press tab to complete a command\n",
        "\n",
        "example: python demo3 ---> tab\n",
        "\n",
        "\n",
        "## Installing extensions\n",
        "- install vs.code extensions\n",
        "- code runner - runs python code from file instead of command terminal\n",
        "\n",
        "1. select extensions icon\n",
        "2. search for extension\n",
        "    \n",
        "    code runner\n",
        "    by Jun Han\n",
        "\n",
        "  ** can install other code runners **\n",
        "  \n",
        "3. install extension\n",
        "* use extension from menu or right-clicking on file\n",
        "\n"
      ],
      "metadata": {
        "id": "yKqLl8GNhNpn"
      }
    },
    {
      "cell_type": "markdown",
      "source": [
        "### mathimatical expression or mathamital operations ()+,-%*^\n",
        "<pre>\n",
        "# ie math formulas - operations ()+,-%*^\n",
        "#\n",
        "#a = b + c\n",
        "#a = b * c\n",
        "#a = (b/2) + (c*3) .... etc..\n",
        "#\n",
        "#total = item1 + item2 + item3 + item4\n",
        "</pre>"
      ],
      "metadata": {
        "id": "9N0jjiJeSEpD"
      }
    },
    {
      "cell_type": "markdown",
      "source": [
        "## Logical expression\n",
        "<pre>\n",
        "Expression to evaluate left and righ variable and return true or false\n",
        "(), ==, <=, >=,\n",
        "true/false = a == b\n",
        "true/false = (a < b) or (a == b)\n",
        "true/false = a and b or c > d or e = g\n",
        "true/false = ((a and b) or (c > d) or (e == g))\n",
        "other\n",
        "\n",
        "</pre>"
      ],
      "metadata": {
        "id": "AIPQOkdVvDKp"
      }
    },
    {
      "cell_type": "code",
      "source": [
        "#-- input-prompt-demo-1.py --\n",
        "\"\"\"\n",
        "input is used to create python conaole input programs\n",
        "when input from the keybpard is required\n",
        "ie: batch programs etc..\n",
        "\n",
        "ctrl+c   --- cancel input\n",
        "\"\"\"\n",
        "## retrieve string data from keyboard input\n",
        "#item1 = input()  #string\n",
        "item1 = input(\"item1: \")  #string\n",
        "item2 = input(\"item2: \")  #string\n",
        "\n",
        "#print(\"item1: \" + item1)\n",
        "#print(\"item2: \" + item2)\n",
        "\n",
        "#- calculte input numbers and display total, optional: round\n",
        "\n",
        "#total = (int(item1) + int(item2))\n",
        "total = (float(item1) + float(item2))\n",
        "#rtotal = round(total)\n",
        "rtotal = round(total,2)\n",
        "\n",
        "#print(\"total: \" + str(round(float(item1) + float(item2))))\n",
        "#print(\"total: \" + str(round(total))\n",
        "print(\"total: \" + str(rtotal))\n"
      ],
      "metadata": {
        "id": "vag7WOdZhxXy"
      },
      "execution_count": null,
      "outputs": []
    },
    {
      "cell_type": "code",
      "source": [
        "#-- input-prompt-demo-2.py --\n",
        "\"\"\"\n",
        "prompt/input for name and price\n",
        "display: name in upper case and price\n",
        "\"\"\"\n",
        "\n",
        "item_name = input(\"name: \")\n",
        "item_price = input(\"price: \")\n",
        "\n",
        "#upper() - convert a string to upper case: also lower()\n",
        "#upper,lower is not avilable for numeric variables\n",
        "\n",
        "#item1 = 10\n",
        "#item.upper() #error - variable is not a string\n",
        "#str(item1).upper() - no error\n",
        "\n",
        "#print(item_name.upper() + str(item_price))\n",
        "#print(item_name.upper() + \" \" + str(item_price))\n",
        "\n",
        "#print(item_name.upper(), str(item_price))\n",
        "#print(item_name.upper(),\" \",str(item_price))\n",
        "\n",
        "print(f\"{item_name.upper()} {item_price}\")\n"
      ],
      "metadata": {
        "id": "9XvYXeGL1jFC"
      },
      "execution_count": null,
      "outputs": []
    },
    {
      "cell_type": "code",
      "source": [
        "#-- input-prompt-demo-3.py --\n",
        "\"\"\"\n",
        "prompt/input for name, date and price\n",
        "display: name in upper case, date and price\n",
        "ie: input(\"date: (mm/dd/yy): \")\n",
        "\"\"\"\n",
        "\n",
        "name1 = input(\"item name: \")\n",
        "#invalid \\ format use \\\\ ie: escape sequence \\\\ or \\\" or \\'\n",
        "date1 = input(\"date: mm/dd/yy: \")\n",
        "price1 = input(\"price: \")\n",
        "\n",
        "print(f\"{name1.upper()} {date1} {price1}\")\n",
        "\n"
      ],
      "metadata": {
        "id": "kMOhUn8V-YGW"
      },
      "execution_count": null,
      "outputs": []
    },
    {
      "cell_type": "code",
      "source": [
        "#-- input-prompt-demo-4.py --\n",
        "\n",
        "\"\"\"\n",
        "[ System requirements: use case, user stories ]\n",
        "-- summary of the some of the system/module --\n",
        "-- 1 or more developers would build and test the requiremnts --\n",
        "-- sytem ui/ux - web sceens or desktop windows screens\n",
        "-- system can also be a console program - no graphical screen - run in a terminal\n",
        "-- python module/library - no graphical screen - schedule to run\n",
        "\n",
        "------------------------------------------------------------------------\n",
        "-- Class demo case studys is based on a inventory/invoicing system --\n",
        "-- demonstrate many core functanalities or python\n",
        "------------------------------------------------------------------------\n",
        "\n",
        "-- example/demo - console system or module\n",
        "prompt/input for name and price\n",
        "display: name in upper case, current date and price\n",
        "ie:\n",
        "import datetime\n",
        "date = datetime.datetime.now()\n",
        "today = f\"{date.month} / {date.day} / {date.year}\"\n",
        "\"\"\"\n",
        "\n",
        "#format date/time\n",
        "#https://www.w3schools.com/python/python_datetime.asp\n",
        "\n",
        "#import datetime library into memory\n",
        "import datetime\n",
        "import random\n",
        "#other\n",
        "\n",
        "name1 = input(\"item name: \")\n",
        "price1 = input(\"price: \")\n",
        "date1 = datetime.datetime.now() ##includes both date and time\n",
        "\n",
        "#display date and time\n",
        "#today1 = date1\n",
        "\n",
        "#display date\n",
        "#today1 = date1.month + \"/\" + date1.day + \"/\" date1.year\n",
        "today1 = f\"{date1.month}/{date1.day}/{date1.year}\"\n",
        "\n",
        "#display time only\n",
        "#time1 = date1.hour + \":\" + minute\n",
        "\n",
        "#date/time formatting\n",
        "#today1 = date1.strftime(\"%B\")\n",
        "\n",
        "#print(name1.upper(),today1,price1)\n",
        "print(f\"{name1.upper()} {today1} {price1}\")\n",
        "\n"
      ],
      "metadata": {
        "id": "B7RJIzDFEtZt",
        "colab": {
          "base_uri": "https://localhost:8080/"
        },
        "outputId": "a3b7b6e3-87b3-4536-cc28-55ed0735f66c"
      },
      "execution_count": 1,
      "outputs": [
        {
          "output_type": "stream",
          "name": "stdout",
          "text": [
            "item name: item one\n",
            "price: 100.5\n",
            "ITEM ONE 9/5/2024 100.5\n"
          ]
        }
      ]
    },
    {
      "cell_type": "code",
      "source": [
        "#-- input-prompt-demo-5.py --\n",
        "#Refactoring: write code and mondify/enhance code ie: 1.0.0..1\n",
        "\"\"\"\n",
        "compute total of 3 items\n",
        "prompt/input for name and price\n",
        "\n",
        "example output:\n",
        "name in upper case, current date and price\n",
        "\n",
        "ITEM ONE    9/5/2024   100.5\n",
        "ITEM TwO    9/5/2024    63.25\n",
        "ITEM THREE  9/5/2024    12.3\n",
        "\n",
        "total                 176.15\n",
        "\n",
        "* round total\n",
        "* item in upper case\n",
        "\"\"\"\n",
        "\n",
        "import datetime\n",
        "\n",
        "item1 = input(\"item1: \")\n",
        "price1 = input(\"price1: \")\n",
        "\n",
        "item2 = input(\"item2: \")\n",
        "price2 = input(\"price2: \")\n",
        "\n",
        "item3 = input(\"item3: \")\n",
        "price3 = input(\"price3: \")\n",
        "\n",
        "date1 = datetime.datetime.now()\n",
        "today1 = f\"{date1.month}/{date1.day}/{date1.year}\"\n",
        "total = (float(price1) + float(price2) + float(price3))\n",
        "\n",
        "rtotal = round(total,2)\n",
        "\n",
        "print(f\"{item1.upper()} {today1} {price1}\")\n",
        "print(f\"{item2.upper()} {today1} {price2}\")\n",
        "print(f\"{item3.upper()} {today1} {price3}\")\n",
        "\n",
        "print(\"total: \",str(rtotal))\n"
      ],
      "metadata": {
        "id": "Uo_cy-PbD4Ue"
      },
      "execution_count": null,
      "outputs": []
    },
    {
      "cell_type": "markdown",
      "source": [
        "## python / java code comparison\n",
        "- https://raygun.com/blog/java-vs-python/\n"
      ],
      "metadata": {
        "id": "K-R0WVjbcLjg"
      }
    },
    {
      "cell_type": "code",
      "source": [
        "#intro to looping\n",
        "#-- loop-demo-1.py --\n",
        "\n",
        "#rage - function - creates a sequence up to a fixed number\n",
        "# step thou the number x times and other features\n",
        "\n",
        "#loop - iterate or count from start to fixed number\n",
        "\n",
        "#loop 3 times\n",
        "#start to finish\n",
        "\n",
        "#pyhon code indentation syntax\n",
        "#: after for statement\n",
        "#loop starts at 0 to 3\n",
        "#for i in 3:\n",
        "for i in range(3):\n",
        "  print(\"i = \", i)\n",
        "\n",
        "#python common syntax indent error\n"
      ],
      "metadata": {
        "colab": {
          "base_uri": "https://localhost:8080/"
        },
        "id": "8xIzWODRcWo0",
        "outputId": "7b2dbd7f-4073-4e87-98ef-6558bd0fdd4c"
      },
      "execution_count": 4,
      "outputs": [
        {
          "output_type": "stream",
          "name": "stdout",
          "text": [
            "i =  0\n",
            "i =  1\n",
            "i =  2\n"
          ]
        }
      ]
    }
  ]
}
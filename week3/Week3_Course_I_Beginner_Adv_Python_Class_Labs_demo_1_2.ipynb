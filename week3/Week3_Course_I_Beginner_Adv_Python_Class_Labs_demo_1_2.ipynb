{
  "nbformat": 4,
  "nbformat_minor": 0,
  "metadata": {
    "colab": {
      "provenance": []
    },
    "kernelspec": {
      "name": "python3",
      "display_name": "Python 3"
    },
    "language_info": {
      "name": "python"
    }
  },
  "cells": [
    {
      "cell_type": "markdown",
      "source": [
        "#Python Course I - class demo and homework assignments\n",
        "- Google Classroom - Module 1 - 3\n",
        "\n",
        "### Demo Topics\n",
        "- input\n",
        "- sting.upper, lower\n",
        "- import - adding python modules/functions to memory\n",
        "- date / time, formatting date ie: datetime.strptime\n",
        "- random\n",
        "- range\n",
        "- for loop - loops for a fixed number of time\n",
        "- if - expression to evaluate left and right variable and return true/false\n",
        "- logical expressions, logical operatprs\n",
        "- Other\n",
        "\n",
        "#github course demos and examples\n",
        "\n",
        "- https://github.com/deanliit/begin-adv-python-course-I\n",
        "\n",
        "### HomeWork/Assignments\n",
        "\n",
        "- Week 1-3\n",
        "\n",
        "- Reading:\n",
        "\n",
        "https://www.w3schools.com/python/python_intro.asp\n",
        "- Variables, Data Type, Casting, Number, Operations\n",
        "\n",
        "- Practice exercises:\n",
        "- Course book example page 25\n",
        "\n",
        "\n"
      ],
      "metadata": {
        "id": "WTQyaSpLjFfU"
      }
    },
    {
      "cell_type": "markdown",
      "source": [
        "### Introduction to vs.code\n",
        "\n",
        "- create project folder ie: \"c:\\python-dev-24\"\n",
        "- start vs.code\n",
        "- add folder to workspace\n",
        "- save workspace\n",
        "- create python demo folder ie: \"python-class-labs\"\n",
        "- create a python file: \"demo1.py\"\n",
        "- enter python code\n",
        "- save file ie: \"ctrl+s\"\n",
        "- right-click on file name \"demo1.py\"\n",
        "- select, open in integrated terminal\n",
        "- windows: dir\n",
        "- macos/linus: ls\n",
        "- windows: cls\n",
        "- macos/linux: clear\n",
        "- python demo1.py\n",
        "- exit\n",
        "- or delete icon\n",
        "\n",
        "#### command line terminal tips\n",
        "up/down arrow key to scroll to previous/next commands\n",
        "\n",
        "press tab to complete a command\n",
        "\n",
        "example: python demo3 ---> tab\n",
        "\n",
        "\n",
        "## Installing extensions\n",
        "- install vs.code extensions\n",
        "- code runner - runs python code from file instead of command terminal\n",
        "\n",
        "1. select extensions icon\n",
        "2. search for extension\n",
        "    \n",
        "    code runner\n",
        "    by Jun Han\n",
        "\n",
        "  ** can install other code runners **\n",
        "  \n",
        "3. install extension\n",
        "* use extension from menu or right-clicking on file\n",
        "\n"
      ],
      "metadata": {
        "id": "yKqLl8GNhNpn"
      }
    },
    {
      "cell_type": "markdown",
      "source": [
        "### mathimatical expression or mathamital operations ()+,-%*^\n",
        "<pre>\n",
        "# ie math formulas - operations ()+,-%*^\n",
        "#\n",
        "#a = b + c\n",
        "#a = b * c\n",
        "#a = (b/2) + (c*3) .... etc..\n",
        "#\n",
        "#total = item1 + item2 + item3 + item4\n",
        "</pre>"
      ],
      "metadata": {
        "id": "9N0jjiJeSEpD"
      }
    },
    {
      "cell_type": "markdown",
      "source": [
        "## Logical expression\n",
        "<pre>\n",
        "Expression to evaluate left and righ variable and return true or false\n",
        "(), ==, <=, >=,\n",
        "true/false = a == b\n",
        "true/false = (a < b) or (a == b)\n",
        "true/false = a and b or c > d or e = g\n",
        "true/false = ((a and b) or (c > d) or (e == g))\n",
        "other\n",
        "\n",
        "</pre>"
      ],
      "metadata": {
        "id": "AIPQOkdVvDKp"
      }
    },
    {
      "cell_type": "markdown",
      "source": [
        "## Variable assignemt\n",
        "\n",
        "a = fixed variable assignment - known value\n",
        "\n",
        "a = dynamic variable assignmemt - ie: input\n",
        "  - retrieve data from a file or database\n",
        "\n",
        "python dynamicaly assigns a data type\n",
        "- str, int, float, bool, other\n",
        "\n",
        "cast from 1 data type to another\n",
        "\n",
        "** more casting or converting from 1 datatype to another\n",
        "\n",
        "\n",
        "some programming languages the variable data type is fixed or static\n",
        "c/java, other\n",
        "\n",
        "str a; //can only assign str to this variable\n",
        "\n",
        "float b; //can only assign float to this variable\n",
        "\n",
        "bool c;\n",
        "\n",
        "int d;\n",
        "\n",
        "** fast but doe resre a pre-compile step before running application\n",
        "\n"
      ],
      "metadata": {
        "id": "nK4EcvvORniw"
      }
    },
    {
      "cell_type": "code",
      "source": [
        "#-- input-prompt-demo-1.py --\n",
        "\"\"\"\n",
        "input is used to create python conaole input programs\n",
        "when input from the keybpard is required\n",
        "ie: batch programs etc..\n",
        "\n",
        "ctrl+c   --- cancel input\n",
        "\"\"\"\n",
        "## retrieve string data from keyboard input\n",
        "#item1 = input()  #string\n",
        "item1 = input(\"item1: \")  #string\n",
        "item2 = input(\"item2: \")  #string\n",
        "\n",
        "#print(\"item1: \" + item1)\n",
        "#print(\"item2: \" + item2)\n",
        "\n",
        "#- calculte input numbers and display total, optional: round\n",
        "\n",
        "#total = (int(item1) + int(item2))\n",
        "total = (float(item1) + float(item2))\n",
        "#rtotal = round(total)\n",
        "rtotal = round(total,2)\n",
        "\n",
        "#print(\"total: \" + str(round(float(item1) + float(item2))))\n",
        "#print(\"total: \" + str(round(total))\n",
        "print(\"total: \" + str(rtotal))\n"
      ],
      "metadata": {
        "id": "vag7WOdZhxXy"
      },
      "execution_count": null,
      "outputs": []
    },
    {
      "cell_type": "code",
      "source": [
        "#-- input-prompt-demo-2.py --\n",
        "\"\"\"\n",
        "prompt/input for name and price\n",
        "display: name in upper case and price\n",
        "\"\"\"\n",
        "\n",
        "item_name = input(\"name: \")\n",
        "item_price = input(\"price: \")\n",
        "\n",
        "#upper() - convert a string to upper case: also lower()\n",
        "#upper,lower is not avilable for numeric variables\n",
        "\n",
        "#item1 = 10\n",
        "#item.upper() #error - variable is not a string\n",
        "#str(item1).upper() - no error\n",
        "\n",
        "#print(item_name.upper() + str(item_price))\n",
        "#print(item_name.upper() + \" \" + str(item_price))\n",
        "\n",
        "#print(item_name.upper(), str(item_price))\n",
        "#print(item_name.upper(),\" \",str(item_price))\n",
        "\n",
        "print(f\"{item_name.upper()} {item_price}\")\n"
      ],
      "metadata": {
        "id": "9XvYXeGL1jFC"
      },
      "execution_count": null,
      "outputs": []
    },
    {
      "cell_type": "code",
      "source": [
        "#-- input-prompt-demo-3.py --\n",
        "\"\"\"\n",
        "prompt/input for name, date and price\n",
        "display: name in upper case, date and price\n",
        "ie: input(\"date: (mm/dd/yy): \")\n",
        "\"\"\"\n",
        "\n",
        "name1 = input(\"item name: \")\n",
        "#invalid \\ format use \\\\ ie: escape sequence \\\\ or \\\" or \\'\n",
        "date1 = input(\"date: mm/dd/yy: \")\n",
        "price1 = input(\"price: \")\n",
        "\n",
        "print(f\"{name1.upper()} {date1} {price1}\")\n",
        "\n"
      ],
      "metadata": {
        "id": "kMOhUn8V-YGW"
      },
      "execution_count": null,
      "outputs": []
    },
    {
      "cell_type": "code",
      "source": [
        "#-- input-prompt-demo-4.py --\n",
        "\n",
        "\"\"\"\n",
        "[ System requirements: use case, user stories ]\n",
        "-- summary of the some of the system/module --\n",
        "-- 1 or more developers would build and test the requiremnts --\n",
        "-- sytem ui/ux - web sceens or desktop windows screens\n",
        "-- system can also be a console program - no graphical screen - run in a terminal\n",
        "-- python module/library - no graphical screen - schedule to run\n",
        "\n",
        "------------------------------------------------------------------------\n",
        "-- Class demo case studys is based on a inventory/invoicing system --\n",
        "-- demonstrate many core functanalities or python\n",
        "------------------------------------------------------------------------\n",
        "\n",
        "-- example/demo - console system or module\n",
        "prompt/input for name and price\n",
        "display: name in upper case, current date and price\n",
        "ie:\n",
        "import datetime\n",
        "date = datetime.datetime.now()\n",
        "today = f\"{date.month} / {date.day} / {date.year}\"\n",
        "\"\"\"\n",
        "\n",
        "#format date/time\n",
        "#https://www.w3schools.com/python/python_datetime.asp\n",
        "\n",
        "#import datetime library into memory\n",
        "import datetime\n",
        "import random\n",
        "#other\n",
        "\n",
        "name1 = input(\"item name: \")\n",
        "price1 = input(\"price: \")\n",
        "date1 = datetime.datetime.now() ##includes both date and time\n",
        "\n",
        "#display date and time\n",
        "#today1 = date1\n",
        "\n",
        "#display date\n",
        "#today1 = date1.month + \"/\" + date1.day + \"/\" date1.year\n",
        "today1 = f\"{date1.month}/{date1.day}/{date1.year}\"\n",
        "\n",
        "#display time only\n",
        "#time1 = date1.hour + \":\" + minute\n",
        "\n",
        "#date/time formatting\n",
        "#today1 = date1.strftime(\"%B\")\n",
        "\n",
        "#print(name1.upper(),today1,price1)\n",
        "print(f\"{name1.upper()} {today1} {price1}\")\n",
        "\n"
      ],
      "metadata": {
        "id": "B7RJIzDFEtZt",
        "colab": {
          "base_uri": "https://localhost:8080/"
        },
        "outputId": "a3b7b6e3-87b3-4536-cc28-55ed0735f66c"
      },
      "execution_count": null,
      "outputs": [
        {
          "output_type": "stream",
          "name": "stdout",
          "text": [
            "item name: item one\n",
            "price: 100.5\n",
            "ITEM ONE 9/5/2024 100.5\n"
          ]
        }
      ]
    },
    {
      "cell_type": "code",
      "source": [
        "#-- input-prompt-demo-5.py --\n",
        "#Refactoring: write code and mondify/enhance code ie: 1.0.0..1\n",
        "\"\"\"\n",
        "compute total of 3 items\n",
        "prompt/input for name and price\n",
        "\n",
        "example output:\n",
        "name in upper case, current date and price\n",
        "\n",
        "ITEM ONE    9/5/2024   100.5\n",
        "ITEM TwO    9/5/2024    63.25\n",
        "ITEM THREE  9/5/2024    12.3\n",
        "\n",
        "total                 176.15\n",
        "\n",
        "* round total\n",
        "* item in upper case\n",
        "\"\"\"\n",
        "\n",
        "import datetime\n",
        "\n",
        "item1 = input(\"item1: \")\n",
        "price1 = input(\"price1: `\")\n",
        "\n",
        "item2 = input(\"item2: \")\n",
        "price2 = input(\"price2: \")\n",
        "\n",
        "item3 = input(\"item3: \")\n",
        "price3 = input(\"price3: \")\n",
        "\n",
        "date1 = datetime.datetime.now()\n",
        "today1 = f\"{date1.month}/{date1.day}/{date1.year}\"\n",
        "total = (float(price1) + float(price2) + float(price3))\n",
        "\n",
        "rtotal = round(total,2)\n",
        "\n",
        "print(f\"{item1.upper()} {today1} {price1}\")\n",
        "print(f\"{item2.upper()} {today1} {price2}\")\n",
        "print(f\"{item3.upper()} {today1} {price3}\")\n",
        "\n",
        "print(\"total: \",str(rtotal))\n"
      ],
      "metadata": {
        "id": "Uo_cy-PbD4Ue"
      },
      "execution_count": null,
      "outputs": []
    },
    {
      "cell_type": "markdown",
      "source": [
        "## python / java code comparison\n",
        "- https://raygun.com/blog/java-vs-python/\n"
      ],
      "metadata": {
        "id": "K-R0WVjbcLjg"
      }
    },
    {
      "cell_type": "code",
      "source": [
        "#intro to looping\n",
        "#-- loop-demo-1.py --\n",
        "\n",
        "#rage - function - creates a sequence up to a fixed number\n",
        "# step thou the number x times and other features\n",
        "\n",
        "#loop - iterate or count from start to fixed number\n",
        "\n",
        "#loop 3 times\n",
        "#start to finish\n",
        "\n",
        "#python code block\n",
        "\n",
        "#python code statements\n",
        "# exmple:\n",
        "#for - must be within a code block and must end with :\n",
        "\n",
        "#code block = 1 or more python code staremnts\n",
        "#           = are indented with a code statment\n",
        "#\n",
        "\n",
        "#can have multiple code statements and code blocks\n",
        "#example\n",
        "#  for ... :\n",
        "#     ...python code...\n",
        "\n",
        "#pyhon code indentation syntax\n",
        "#: after for statement\n",
        "#create the vraiable i, loop starts at 0 to 3\n",
        "#for i in 3:\n",
        "for i in range(3):\n",
        "  print(\"i = \", i)\n"
      ],
      "metadata": {
        "colab": {
          "base_uri": "https://localhost:8080/"
        },
        "id": "8xIzWODRcWo0",
        "outputId": "7b2dbd7f-4073-4e87-98ef-6558bd0fdd4c"
      },
      "execution_count": null,
      "outputs": [
        {
          "output_type": "stream",
          "name": "stdout",
          "text": [
            "i =  0\n",
            "i =  1\n",
            "i =  2\n"
          ]
        }
      ]
    },
    {
      "cell_type": "code",
      "source": [
        "#loop throu 3 items starting 0 to 2\n",
        "\n",
        "\"\"\"\n",
        "\n",
        "python - complex code using minimal syntax\n",
        "simplifys many progammins step\n",
        "\n",
        "programming fundamentals\n",
        "-------------------------------\n",
        "start counting at 0\n",
        "0,1,2,.... = index\n",
        "\n",
        "created a variable i\n",
        "\n",
        "python \"for\" loop keyword ie: for variable-name \"in\" [list/array/map/set/tuple/range]\n",
        "- end with a colan:\n",
        "\n",
        "some python keyword statements alway end with a colan\n",
        "example: if, for, while,\n",
        "\n",
        "- python will incement cvariable in the fopr loop\n",
        "\n",
        "- after colan: must indent using space or tab\n",
        "- when inden - all indented code/block is within for keyworkd statement ie: for, while\n",
        "- you can add 1 or more indednted code statements\n",
        "\n",
        "//------------------------------------------\n",
        "//java / javascript - loop code\n",
        "//------------------------------------------\n",
        "\n",
        "for(int i=0;i<3;i++)\n",
        "{\n",
        "   console.log(\"..inside for loop: \" + (i+1));\n",
        "\n",
        "   console.log(\"i = \" + i);\n",
        "}\n",
        "\n",
        "\"\"\"\n",
        "\n",
        "print(\"..before for loop\")\n",
        "\n",
        "#for loop is used when you know the exact numer of times to loop\n",
        "#when known of fixed number of times to loop\n",
        "\n",
        "for i in range(5):\n",
        "   print(\"..inside for loop: \", (i+1))\n",
        "\n",
        "   print(\"i = \", i)\n",
        "\n",
        "print(\"..after for loop\")\n",
        "\n"
      ],
      "metadata": {
        "colab": {
          "base_uri": "https://localhost:8080/"
        },
        "id": "XHOlVLMpXjR4",
        "outputId": "a2b23717-0ddc-46b9-e194-3e000c977123"
      },
      "execution_count": 6,
      "outputs": [
        {
          "output_type": "stream",
          "name": "stdout",
          "text": [
            "..before for loop\n",
            "..inside for loop:  1\n",
            "i =  0\n",
            "..inside for loop:  2\n",
            "i =  1\n",
            "..inside for loop:  3\n",
            "i =  2\n",
            "..after for loop\n"
          ]
        }
      ]
    },
    {
      "cell_type": "code",
      "source": [
        "#while loop example 1\n",
        "i = 0\n",
        "\n",
        "#when not certain of the number of times you will loop\n",
        "#can use fixed loop time or true/false loop statemet\n",
        "#can loop until a condition is tre/false\n",
        "#fixed or variable looping\n",
        "\n",
        "while i < 3:\n",
        "  print(\"i = \",i)\n",
        "  #increment i, else error, endless/infinate loop\n",
        "  #i = i + 1\n",
        "  i +=1\n",
        "  #error in python\n",
        "  #i++\n",
        "\n"
      ],
      "metadata": {
        "colab": {
          "base_uri": "https://localhost:8080/"
        },
        "id": "zfNZGfK8ncD6",
        "outputId": "32e436ce-362b-4c1a-b1b1-b1cec70a3e1f"
      },
      "execution_count": 11,
      "outputs": [
        {
          "output_type": "stream",
          "name": "stdout",
          "text": [
            "i =  0\n",
            "i =  1\n",
            "i =  2\n"
          ]
        }
      ]
    },
    {
      "cell_type": "code",
      "source": [
        "#while loop example 1\n",
        "i = 0\n",
        "\n",
        "#when not certain of the number of times you will loop\n",
        "#can use fixed loop time or true/false loop statemet\n",
        "#can loop until a condition is tre/false\n",
        "\n",
        "var = True\n",
        "i = 0\n",
        "\n",
        "#nested statements while if stament within\n",
        "\n",
        "while var == True:\n",
        "  print(\"i = \",i)\n",
        "  #increment i, else error, endless/infinate loop\n",
        "  i = i + 1\n",
        "  if i == 10:\n",
        "    print(\"if statement i = 10: \", i)\n",
        "    var = False\n",
        "\n"
      ],
      "metadata": {
        "id": "FIUzFc6ZhYBN"
      },
      "execution_count": null,
      "outputs": []
    },
    {
      "cell_type": "code",
      "source": [
        "#for loop example 2\n",
        "for i in range(1,3):\n",
        "  print(\"i = \",i)\n"
      ],
      "metadata": {
        "id": "lmrWGU78n0bR"
      },
      "execution_count": null,
      "outputs": []
    },
    {
      "cell_type": "code",
      "source": [
        "#for loop example 3\n",
        "for i in range(0,10,2):\n",
        "  print(\"i = \",i)\n"
      ],
      "metadata": {
        "id": "kCzRamuPsXeq",
        "colab": {
          "base_uri": "https://localhost:8080/"
        },
        "outputId": "57b1b384-5571-4646-bd6d-f09cea37411f"
      },
      "execution_count": 12,
      "outputs": [
        {
          "output_type": "stream",
          "name": "stdout",
          "text": [
            "i =  0\n",
            "i =  2\n",
            "i =  4\n",
            "i =  6\n",
            "i =  8\n"
          ]
        }
      ]
    },
    {
      "cell_type": "code",
      "source": [
        "\n",
        "#commpn python code syntax indent error\n",
        "#- invalid code block\n",
        "#- invalid code indentation\n",
        "#- colon not enteted\n",
        "\n",
        "\"\"\"\n",
        "for i < range(3)\n",
        "prnt(\"i= \",i)\n",
        "\"\"\""
      ],
      "metadata": {
        "id": "P9heT3VCnQ3y"
      },
      "execution_count": null,
      "outputs": []
    }
  ]
}
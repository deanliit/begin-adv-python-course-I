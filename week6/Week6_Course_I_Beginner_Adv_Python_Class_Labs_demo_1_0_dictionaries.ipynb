{
  "nbformat": 4,
  "nbformat_minor": 0,
  "metadata": {
    "colab": {
      "provenance": []
    },
    "kernelspec": {
      "name": "python3",
      "display_name": "Python 3"
    },
    "language_info": {
      "name": "python"
    }
  },
  "cells": [
    {
      "cell_type": "markdown",
      "source": [
        "#Python Course I - class demo and homework assignments\n",
        "- Google Classroom - Module 1 - 3\n",
        "\n",
        "### Demo Topics\n",
        "- input\n",
        "- sting.upper, lower\n",
        "- import - adding python modules/functions to memory\n",
        "- date / time, formatting date ie: datetime.strptime\n",
        "- random\n",
        "- range\n",
        "- for loop - loops for a fixed number of time\n",
        "- if - expression to evaluate left and right variable and return true/false\n",
        "- logical expressions, logical operatprs\n",
        "- intro to array\n",
        "- intro to list, set, tuple, map\n",
        "    - set() - function is used to cast a list to set\n",
        "    - list() - is used to cast a set to a list\n",
        "    - tuple() - cas to list to tuple\n",
        "    - dict() - cast a list to dictionary\n",
        "- functions\n",
        "- file input/output\n",
        "- OOP classes\n",
        "- python main startup module __name__ == \"__main__\"\n",
        "- Other\n",
        "\n",
        "#github course demos and examples\n",
        "\n",
        "- https://github.com/deanliit/begin-adv-python-course-I\n",
        "\n",
        "### HomeWork/Assignments\n",
        "\n",
        "- Week 1-3\n",
        "\n",
        "- Reading:\n",
        "\n",
        "https://www.w3schools.com/python/python_intro.asp\n",
        "- Variables, Data Type, Casting, Number, Operations\n",
        "\n",
        "### Course book practices exercises  \n",
        "- page 43, Exercise 1\n",
        "- page 47, exercise 8\n",
        "- page 48, exercise 10\n",
        "- page 49, exercise 12\n",
        "\n",
        "\n"
      ],
      "metadata": {
        "id": "WTQyaSpLjFfU"
      }
    },
    {
      "cell_type": "markdown",
      "source": [
        "## Course I & II Module overview\n",
        "\n",
        "<pre>\n",
        "# Module 1\n",
        "Python fundamentals\n",
        "Data type\n",
        "Variables\n",
        "Input\n",
        "for, while loop\n",
        "Other\n",
        "\n",
        "# Module 2\n",
        "Array index\n",
        "Slicers, list comprehension  \n",
        "Functions\n",
        "File input\n",
        "Other\n",
        "\n",
        "# Module 3\n",
        "Data structures\n",
        "Array, set, list, tuple, map\n",
        "Classes\n",
        "Lamda\n",
        "Other\n",
        "\n",
        "#optional - Module 4\n",
        "Intro to data analyst using python\n",
        "Pandas, numpy\n",
        "SQL\n",
        "Other\n",
        "\n",
        "</pre>"
      ],
      "metadata": {
        "id": "-2io6QFnJKCO"
      }
    },
    {
      "cell_type": "markdown",
      "source": [
        "### mathimatical expression or mathamital operations ()+,-%*^\n",
        "<pre>\n",
        "# ie math formulas - operations ()+,-%*^\n",
        "#\n",
        "#a = b + c\n",
        "#a = b * c\n",
        "#a = (b/2) + (c*3) .... etc..\n",
        "#\n",
        "#total = item1 + item2 + item3 + item4\n",
        "</pre>"
      ],
      "metadata": {
        "id": "9N0jjiJeSEpD"
      }
    },
    {
      "cell_type": "markdown",
      "source": [
        "## Logical expression\n",
        "<pre>\n",
        "Expression to evaluate left and righ variable and return true or false\n",
        "(), ==, <=, >=,\n",
        "true/false = a == b\n",
        "true/false = (a < b) or (a == b)\n",
        "true/false = a and b or c > d or e = g\n",
        "true/false = ((a and b) or (c > d) or (e == g))\n",
        "other\n",
        "\n",
        "</pre>"
      ],
      "metadata": {
        "id": "AIPQOkdVvDKp"
      }
    },
    {
      "cell_type": "markdown",
      "source": [
        "## Variable assignemt\n",
        "\n",
        "a = fixed variable assignment - known value\n",
        "\n",
        "a = dynamic variable assignmemt - ie: input\n",
        "  - retrieve data from a file or database\n",
        "\n",
        "python dynamicaly assigns a data type\n",
        "- str, int, float, bool, other\n",
        "\n",
        "cast from 1 data type to another\n",
        "\n",
        "** more casting or converting from 1 datatype to another\n",
        "\n",
        "\n",
        "some programming languages the variable data type is fixed or static\n",
        "c/java, other\n",
        "\n",
        "str a; //can only assign str to this variable\n",
        "\n",
        "float b; //can only assign float to this variable\n",
        "\n",
        "bool c;\n",
        "\n",
        "int d;\n",
        "\n",
        "** fast but doe resre a pre-compile step before running application\n",
        "\n"
      ],
      "metadata": {
        "id": "nK4EcvvORniw"
      }
    },
    {
      "cell_type": "code",
      "source": [
        "#software development best practices - python, other\n",
        "\n",
        "\"\"\"\n",
        "#Refactoring: write code and mondify/enhance code ie: 1.0.0..1\n",
        "#--------------------------------------\n",
        "# systems/ program requirments\n",
        "# ie: build the folloginw python program\n",
        "# - researching python libraries, examples\n",
        "# - demo code\n",
        "# - more programs you write the more systems you can build\n",
        "#--------------------------------------\n",
        "\n",
        "-----------------------------------\n",
        "Example Requirements\n",
        "-----------------------------------\n",
        "\n",
        "compute total of 3 items\n",
        "prompt/input for name and price\n",
        "\n",
        "example output:\n",
        "name in upper case, current date and price\n",
        "\n",
        "ITEM ONE    9/5/2024   100.5\n",
        "ITEM TwO    9/5/2024    63.25\n",
        "ITEM THREE  9/5/2024    12.3\n",
        "\n",
        "total                 176.15\n",
        "\n",
        "* round total\n",
        "* item in upper case\n",
        "\n",
        "--------------------------------------------\n",
        "Development Best practice steps for many programs\n",
        "--------------------------------------------\n",
        "#1. import libraries\n",
        "#2. get user input, files, database, web, other\n",
        "#3. string data type\n",
        "#4. cast string to other data type int, float, bool, other\n",
        "#5. retrive system data and time\n",
        "#6. retrieve day, month, year\n",
        "#7. calculating total for 3 input items\n",
        "#8. calculation or numerical expression\n",
        "#9. rounding\n",
        "#10. cast data from 1 type to another\n",
        "#11. loop through a list of items\n",
        "#12. varify if data is true/false ie: making a decision true/false\n",
        "#13. output data - screen, file, database, web, other\n",
        "# other\n",
        "\n",
        "\"\"\""
      ],
      "metadata": {
        "id": "S7aA0b9SAVyN"
      },
      "execution_count": null,
      "outputs": []
    },
    {
      "cell_type": "code",
      "source": [
        "#https://www.w3schools.com/python/python_arrays.asp\n",
        "\n",
        "#introduction to arrays also: (list, set, map/dictionary, tuple)\n",
        "\n",
        "#https://www.w3schools.com/python/python_lists.asp\n"
      ],
      "metadata": {
        "id": "a0HE8AVGTLhU"
      },
      "execution_count": null,
      "outputs": []
    },
    {
      "cell_type": "code",
      "source": [
        "#dict-demo-1.py\n",
        "\n",
        "#dictionary/map = key/value pairs\n",
        "\n",
        "#key/value can be number of string\n",
        "\n",
        "#\n",
        "# un structured - nosql - document - key/value\n",
        "\n",
        "# values can be arrays ie: key;[1,2,3]\n",
        "\n",
        "# nested key/values\n",
        "# ie: key1:1, key2:[], key3:{keya:10}, key4:()\n",
        "#\n",
        "\n",
        "\"\"\"\n",
        "1:10,\n",
        "2:\"ten\",\n",
        "2:15,\n",
        "3:\"fifteen\",\n",
        "5:10\n",
        "\"\"\"\n",
        "#dict1 = {}\n",
        "dict1 = {1:10,2:\"ten\",2:15,3:\"fifteen\",5:10}\n",
        "\n",
        "#add item to dictionary\n",
        "dict1[25] = \"twenty five\"\n",
        "dict1[\"item1\"] = 25\n",
        "\n",
        "#items = dict()\n",
        "items = {\"one\":\"item one\", \"two\":\"item two\", \"three\":\"item three\", 1:\"item one\"}\n",
        "\n",
        "#add item to dictionary\n",
        "items[\"item four\"] = 4\n",
        "items[2] = 20\n",
        "\n",
        "print(dict1)\n",
        "print(items)\n"
      ],
      "metadata": {
        "colab": {
          "base_uri": "https://localhost:8080/"
        },
        "id": "IdfbBW4bXMzf",
        "outputId": "26af7197-cb7d-4e45-9b1c-a0841dd715d9"
      },
      "execution_count": 1,
      "outputs": [
        {
          "output_type": "stream",
          "name": "stdout",
          "text": [
            "{1: 10, 2: 15, 3: 'fifteen', 5: 10, 25: 'twenty five', 'item1': 25}\n",
            "{'one': 'item one', 'two': 'item two', 'three': 'item three', 1: 'item one', 'item four': 4, 2: 20}\n"
          ]
        }
      ]
    },
    {
      "cell_type": "code",
      "source": [
        "#dict-demo-2.py\n",
        "\n",
        "#dict1 = {}\n",
        "dict1 = {1:10,2:\"ten\",2:15,3:\"fifteen\",5:10}\n",
        "\n",
        "#add item to dictionary\n",
        "dict1[25] = \"twenty five\"\n",
        "dict1[\"item1\"] = 25\n",
        "\n",
        "#items = dict()\n",
        "items = {\"one\":\"item one\", \"two\":\"item two\", \"three\":\"item three\", 1:\"item one\"}\n",
        "\n",
        "#add item to dictionary\n",
        "items[\"item four\"] = 4\n",
        "items[2] = 20\n",
        "\n",
        "print()\n",
        "\n",
        "print(\"dict[1] \", dict1[1])\n",
        "print(\"dict[ten] \", dict1.get(\"ten\"))\n",
        "print(\"items['one'] \", items[\"one\"])\n",
        "\n",
        "#error - key does not exist\n",
        "#print(\"items[key1] \", items[\"key1\"])\n",
        "#print(\"dict[2] \", dict[2])\n",
        "\n",
        "#\n",
        "#check if key exist in tuple\n",
        "#\n",
        "\n",
        "print()\n",
        "\n",
        "if \"one\" in items:\n",
        "    print(\"one/key exist in dict1\")\n",
        "else:\n",
        "    print(\"one/key is not in dict1\")\n"
      ],
      "metadata": {
        "colab": {
          "base_uri": "https://localhost:8080/"
        },
        "id": "BtYhNbiskndu",
        "outputId": "41d0af31-e4a3-4dac-abe2-4119592563f9"
      },
      "execution_count": null,
      "outputs": [
        {
          "output_type": "stream",
          "name": "stdout",
          "text": [
            "\n",
            "dict[1]  10\n",
            "dict[ten]  None\n",
            "items['one']  item one\n",
            "items[key1]  \n",
            "\n",
            "one/key exist in tiple\n"
          ]
        }
      ]
    },
    {
      "cell_type": "code",
      "source": [
        "#dict-demo-3.py\n",
        "\n",
        "#dict1 = {}\n",
        "dict1 = {1:10,2:\"ten\",2:15,3:\"fifteen\",5:10}\n",
        "\n",
        "#add item to dictionary\n",
        "dict1[25] = \"twenty five\"\n",
        "dict1[\"item1\"] = 25\n",
        "\n",
        "#items = dict()\n",
        "items = {\"one\":\"item one\", \"two\":\"item two\", \"three\":\"item three\", 1:\"item one\"}\n",
        "\n",
        "#add item to dictionary\n",
        "items[\"item four\"] = 4\n",
        "items[2] = 20\n",
        "\n",
        "print()\n",
        "\n",
        "i = 0\n",
        "\n",
        "for key in dict1:\n",
        "  print(f\"i> {i} - {key} - {dict1[key]}\")\n",
        "  i +=1\n",
        "\n",
        "print()\n",
        "\n",
        "i = 0\n",
        "\n",
        "#while i < len(items):\n",
        "#  print(\"i > \",i,items[i])\n",
        "#  i += 1\n"
      ],
      "metadata": {
        "colab": {
          "base_uri": "https://localhost:8080/"
        },
        "id": "ObYOBICrcaMf",
        "outputId": "4ba7f228-792f-41af-e087-fc565c47e3f8"
      },
      "execution_count": 2,
      "outputs": [
        {
          "output_type": "stream",
          "name": "stdout",
          "text": [
            "\n",
            "i> 0 - 1 - 10\n",
            "i> 1 - 2 - 15\n",
            "i> 2 - 3 - fifteen\n",
            "i> 3 - 5 - 10\n",
            "i> 4 - 25 - twenty five\n",
            "i> 5 - item1 - 25\n",
            "\n"
          ]
        }
      ]
    },
    {
      "cell_type": "code",
      "source": [
        "#dict-demo-4.py\n",
        "\n",
        "invt_items = {\"items\":[\"one\",\"two\", \"three\"]}\n",
        "invt_items[\"items\"].append(\"five\")\n",
        "\n",
        "invt_prices = {\"prices\":[1,2,3]}\n",
        "invt_prices[\"prices\"].append(4)\n",
        "\n",
        "inv_dict = {\"items\":[], \"prices\":[]}\n",
        "\n",
        "#inv_dict = {} #dict()\n",
        "inv_dict = {\"one\":1,\"two\":2, \"three\":3}\n",
        "inv_dict[\"four\"] = 4\n",
        "\n",
        "list_keys = inv_dict.keys()\n",
        "list_values = inv_dict.values()\n",
        "\n",
        "print(list_keys)\n",
        "print(list_values)\n",
        "\n",
        "i = 0\n",
        "\n",
        "for key in dict1:\n",
        "  print(f\"i> {i} - {key} - {dict1[key]}\")\n",
        "  i +=1\n",
        "\n",
        "for key in inv_dict.keys():\n",
        "  print(key)\n",
        "\n",
        "for item in inv_dict.items():\n",
        "  print(item)\n",
        "\n",
        "\n",
        "\n",
        "\n",
        "\n",
        "\n"
      ],
      "metadata": {
        "colab": {
          "base_uri": "https://localhost:8080/"
        },
        "id": "Ww9HzSy9IjQB",
        "outputId": "1f785202-cf8d-418d-a728-8f01a282a26d"
      },
      "execution_count": 3,
      "outputs": [
        {
          "output_type": "stream",
          "name": "stdout",
          "text": [
            "dict_keys(['one', 'two', 'three', 'four'])\n",
            "dict_values([1, 2, 3, 4])\n"
          ]
        }
      ]
    },
    {
      "cell_type": "code",
      "source": [
        "\"\"\"\n",
        "\n",
        "Course book practices exercises\n",
        "- page 43, Exercise 1\n",
        "- page 47, exercise 8\n",
        "- page 48, exercise 10\n",
        "- page 49, exercise 12\n",
        "\n",
        "\"\"\"\n",
        "\n",
        "\n"
      ],
      "metadata": {
        "id": "t9GOA_1mnHjf",
        "colab": {
          "base_uri": "https://localhost:8080/",
          "height": 35
        },
        "outputId": "a990ebec-e627-4bc6-bb60-cce05637b4ba"
      },
      "execution_count": null,
      "outputs": [
        {
          "output_type": "execute_result",
          "data": {
            "text/plain": [
              "'\\n\\nCourse book practices exercises\\n- page 43, Exercise 1\\n- page 47, exercise 8\\n- page 48, exercise 10\\n- page 49, exercise 12\\n\\n'"
            ],
            "application/vnd.google.colaboratory.intrinsic+json": {
              "type": "string"
            }
          },
          "metadata": {},
          "execution_count": 4
        }
      ]
    },
    {
      "cell_type": "code",
      "source": [
        "\"\"\"\n",
        "\n",
        "==========================================================\n",
        "implement the following inventory example using array/list\n",
        "==========================================================\n",
        "\n",
        "compute total of 5 items\n",
        "prompt/input for name and price\n",
        "\n",
        "example output:\n",
        "name in upper case, current date and price\n",
        "\n",
        "ITEM ONE    9/5/2024   100.5\n",
        "ITEM TwO    9/5/2024    63.25\n",
        "ITEM THREE  9/5/2024    12.3\n",
        "ITEM FOUR   9/5/2024    132.13\n",
        "ITEM FIVE   9/5/2024    102.23\n",
        "\n",
        "total                  476.15\n",
        "\n",
        "* round total\n",
        "* item in upper case\n",
        "\n",
        "\"\"\""
      ],
      "metadata": {
        "id": "9DBzI7M7o_Jx"
      },
      "execution_count": null,
      "outputs": []
    },
    {
      "cell_type": "code",
      "source": [
        "#dict-demo-invoice-app-1.py\n",
        "\n",
        "import datetime\n",
        "import random\n",
        "\n",
        "items = {} #dict()\n",
        "date1 = datetime.datetime.now()\n",
        "total = 0.0\n",
        "TOTAL_ITEMS = 2\n",
        "\n",
        "today1 = f\"{date1.month}/{date1.day}/{date1.year}\"\n",
        "\n",
        "for i in range(TOTAL_ITEMS):\n",
        "  price = random.randint(1,200)\n",
        "  item = input(f\"item-{(i+1)}: \")\n",
        "  total = total + price\n",
        "  items[item.upper()] = price\n",
        "\n",
        "i = 0\n",
        "\n",
        "for key in items:\n",
        "  print(f\"{key} - {today1} - {items[key]}\")\n",
        "  #i += 1\n",
        "\n",
        "print(\"\")\n",
        "print(\"total: \", round(total,2))\n"
      ],
      "metadata": {
        "colab": {
          "base_uri": "https://localhost:8080/"
        },
        "id": "wngTUk_y91hj",
        "outputId": "ebb9f211-56b2-4afc-8436-63bb2e02926d"
      },
      "execution_count": null,
      "outputs": [
        {
          "output_type": "stream",
          "name": "stdout",
          "text": [
            "item-1: item one\n",
            "item-2: item two\n",
            "ITEM ONE - 9/19/2024 - 141\n",
            "ITEM TWO - 9/19/2024 - 160\n",
            "\n",
            "total:  301.0\n"
          ]
        }
      ]
    }
  ]
}
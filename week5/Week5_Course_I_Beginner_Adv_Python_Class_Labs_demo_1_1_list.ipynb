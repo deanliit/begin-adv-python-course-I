{
  "nbformat": 4,
  "nbformat_minor": 0,
  "metadata": {
    "colab": {
      "provenance": []
    },
    "kernelspec": {
      "name": "python3",
      "display_name": "Python 3"
    },
    "language_info": {
      "name": "python"
    }
  },
  "cells": [
    {
      "cell_type": "markdown",
      "source": [
        "#Python Course I - class demo and homework assignments\n",
        "- Google Classroom - Module 1 - 3\n",
        "\n",
        "### Demo Topics\n",
        "- input\n",
        "- sting.upper, lower\n",
        "- import - adding python modules/functions to memory\n",
        "- date / time, formatting date ie: datetime.strptime\n",
        "- random\n",
        "- range\n",
        "- for loop - loops for a fixed number of time\n",
        "- if - expression to evaluate left and right variable and return true/false\n",
        "- logical expressions, logical operatprs\n",
        "- intro to array\n",
        "- intro to list, set, tuple, map\n",
        "- functions\n",
        "- file inpu/output\n",
        "- OOP classes\n",
        "- python main startup module __name__ == \"__main__\"\n",
        "- Other\n",
        "\n",
        "#github course demos and examples\n",
        "\n",
        "- https://github.com/deanliit/begin-adv-python-course-I\n",
        "\n",
        "### HomeWork/Assignments\n",
        "\n",
        "- Week 1-3\n",
        "\n",
        "- Reading:\n",
        "\n",
        "https://www.w3schools.com/python/python_intro.asp\n",
        "- Variables, Data Type, Casting, Number, Operations\n",
        "\n",
        "### Course book practices exercises  \n",
        "- page 43, Exercise 1\n",
        "- page 47, exercise 8\n",
        "- page 48, exercise 10\n",
        "- page 49, exercise 12\n",
        "\n",
        "\n"
      ],
      "metadata": {
        "id": "WTQyaSpLjFfU"
      }
    },
    {
      "cell_type": "markdown",
      "source": [
        "## Course I & II Module overview\n",
        "\n",
        "<pre>\n",
        "# Module 1\n",
        "Python fundamentals\n",
        "Data type\n",
        "Variables\n",
        "Input\n",
        "for, while loop\n",
        "Other\n",
        "\n",
        "# Module 2\n",
        "Array index\n",
        "Slicers, list comprehension  \n",
        "Functions\n",
        "File input\n",
        "Other\n",
        "\n",
        "# Module 3\n",
        "Data structures\n",
        "Array, set, list, tuple, map\n",
        "Classes\n",
        "Lamda\n",
        "Other\n",
        "\n",
        "#optional - Module 4\n",
        "Intro to data analyst using python\n",
        "Pandas, numpy\n",
        "SQL\n",
        "Other\n",
        "\n",
        "</pre>"
      ],
      "metadata": {
        "id": "-2io6QFnJKCO"
      }
    },
    {
      "cell_type": "markdown",
      "source": [
        "### mathimatical expression or mathamital operations ()+,-%*^\n",
        "<pre>\n",
        "# ie math formulas - operations ()+,-%*^\n",
        "#\n",
        "#a = b + c\n",
        "#a = b * c\n",
        "#a = (b/2) + (c*3) .... etc..\n",
        "#\n",
        "#total = item1 + item2 + item3 + item4\n",
        "</pre>"
      ],
      "metadata": {
        "id": "9N0jjiJeSEpD"
      }
    },
    {
      "cell_type": "markdown",
      "source": [
        "## Logical expression\n",
        "<pre>\n",
        "Expression to evaluate left and righ variable and return true or false\n",
        "(), ==, <=, >=,\n",
        "true/false = a == b\n",
        "true/false = (a < b) or (a == b)\n",
        "true/false = a and b or c > d or e = g\n",
        "true/false = ((a and b) or (c > d) or (e == g))\n",
        "other\n",
        "\n",
        "</pre>"
      ],
      "metadata": {
        "id": "AIPQOkdVvDKp"
      }
    },
    {
      "cell_type": "markdown",
      "source": [
        "## Variable assignemt\n",
        "\n",
        "a = fixed variable assignment - known value\n",
        "\n",
        "a = dynamic variable assignmemt - ie: input\n",
        "  - retrieve data from a file or database\n",
        "\n",
        "python dynamicaly assigns a data type\n",
        "- str, int, float, bool, other\n",
        "\n",
        "cast from 1 data type to another\n",
        "\n",
        "** more casting or converting from 1 datatype to another\n",
        "\n",
        "\n",
        "some programming languages the variable data type is fixed or static\n",
        "c/java, other\n",
        "\n",
        "str a; //can only assign str to this variable\n",
        "\n",
        "float b; //can only assign float to this variable\n",
        "\n",
        "bool c;\n",
        "\n",
        "int d;\n",
        "\n",
        "** fast but doe resre a pre-compile step before running application\n",
        "\n"
      ],
      "metadata": {
        "id": "nK4EcvvORniw"
      }
    },
    {
      "cell_type": "code",
      "source": [
        "#software development best practices - python, other\n",
        "\n",
        "\"\"\"\n",
        "#Refactoring: write code and mondify/enhance code ie: 1.0.0..1\n",
        "#--------------------------------------\n",
        "# systems/ program requirments\n",
        "# ie: build the folloginw python program\n",
        "# - researching python libraries, examples\n",
        "# - demo code\n",
        "# - more programs you write the more systems you can build\n",
        "#--------------------------------------\n",
        "\n",
        "-----------------------------------\n",
        "Example Requirements\n",
        "-----------------------------------\n",
        "\n",
        "compute total of 3 items\n",
        "prompt/input for name and price\n",
        "\n",
        "example output:\n",
        "name in upper case, current date and price\n",
        "\n",
        "ITEM ONE    9/5/2024   100.5\n",
        "ITEM TwO    9/5/2024    63.25\n",
        "ITEM THREE  9/5/2024    12.3\n",
        "\n",
        "total                 176.15\n",
        "\n",
        "* round total\n",
        "* item in upper case\n",
        "\n",
        "--------------------------------------------\n",
        "Development Best practice steps for many programs\n",
        "--------------------------------------------\n",
        "#1. import libraries\n",
        "#2. get user input, files, database, web, other\n",
        "#3. string data type\n",
        "#4. cast string to other data type int, float, bool, other\n",
        "#5. retrive system data and time\n",
        "#6. retrieve day, month, year\n",
        "#7. calculating total for 3 input items\n",
        "#8. calculation or numerical expression\n",
        "#9. rounding\n",
        "#10. cast data from 1 type to another\n",
        "#11. loop through a list of items\n",
        "#12. varify if data is true/false ie: making a decision true/false\n",
        "#13. output data - screen, file, database, web, other\n",
        "# other\n",
        "\n",
        "\"\"\""
      ],
      "metadata": {
        "id": "S7aA0b9SAVyN"
      },
      "execution_count": null,
      "outputs": []
    },
    {
      "cell_type": "code",
      "source": [
        "#https://www.w3schools.com/python/python_arrays.asp\n",
        "\n",
        "#introduction to arrays also: (list, set, map/dictionary, tuple)\n",
        "\n",
        "#array - collection/list or sequence of same \"data/data type\" in memory\n",
        "\n",
        "#- creating list\n",
        "#- array index - 0,1,....\n",
        "#- looping through array ie: for, while\n",
        "#- add, update, delete items in array\n",
        "#- can have duplicate data in an array\n",
        "\n",
        "#array1/list = [1,2,3,4...]\n",
        "#array2/list = [\"one\",\"two\",\"fifteen\",\"five\"...]\n",
        "\n",
        "#creatiing/difining an array and list is same\n",
        "\"\"\"\n",
        "\n",
        "#list - mixed items - optional/can contain muixed data type : int, string, bool, etc..\n",
        "list2 = [1,4,5,5,3,\"item one\"]  #list/array = list\n",
        "\n",
        "\"\"\"\n"
      ],
      "metadata": {
        "id": "a0HE8AVGTLhU"
      },
      "execution_count": null,
      "outputs": []
    },
    {
      "cell_type": "code",
      "source": [
        "#list-demo-1.py\n",
        "\n",
        "#list1 = []\n",
        "#list1 = [10,2,15,5,10]\n",
        "list1 = [10,\"ten\",2,15,\"fifteen\",5,10] #array of numbers\n",
        "\n",
        "#add item to list\n",
        "list1.append(25)\n",
        "list1.append(\"item1\")\n",
        "\n",
        "#items = []\n",
        "#items = [\"item one\", 1, \"item two\", \"item three\"]\n",
        "items = [\"item one\", \"item two\", \"item three\", 1]\n",
        "\n",
        "#can add items to list\n",
        "items.append(\"item four\")\n",
        "items.append(2)\n",
        "\n",
        "print(list1)\n",
        "print(items)\n"
      ],
      "metadata": {
        "colab": {
          "base_uri": "https://localhost:8080/"
        },
        "id": "IdfbBW4bXMzf",
        "outputId": "f582ffc4-07da-4ee0-aaa8-98bac4b68fc6"
      },
      "execution_count": null,
      "outputs": [
        {
          "output_type": "stream",
          "name": "stdout",
          "text": [
            "[10, 2, 15, 5, 10, 25]\n",
            "['item one', 'item two', 'item three', 'item four']\n"
          ]
        }
      ]
    },
    {
      "cell_type": "code",
      "source": [
        "#list-demo-2.py\n",
        "\n",
        "#list1 = []\n",
        "list1 = [10,\"ten\",2,15,\"fifteen\",5,10]\n",
        "\n",
        "#add item to list\n",
        "list1.append(25)\n",
        "list1.append(\"item1\")\n",
        "\n",
        "#items = []\n",
        "items = [\"item one\", \"item two\", \"item three\", 1]\n",
        "\n",
        "print(\"length of items: \", len(items))\n",
        "print(\"length of array: \", len(list1))\n",
        "\n",
        "print(list1)\n",
        "print(items)\n",
        "\n",
        "print()\n",
        "\n",
        "print(\"list1[0] \", list1[0])\n",
        "print(\"list1[2] \", list1[2])\n",
        "#IndexError\n",
        "#print(\"list1[10] \", array1[10]) #index out of bound\n",
        "#index is always 1 less than the length of the array\n",
        "\n",
        "print(\"items[0] \", items[0])\n",
        "print(\"items[2] \", items[2])\n"
      ],
      "metadata": {
        "colab": {
          "base_uri": "https://localhost:8080/"
        },
        "id": "BtYhNbiskndu",
        "outputId": "ddd9617a-5e79-45b3-f1f1-8242f4b127cd"
      },
      "execution_count": null,
      "outputs": [
        {
          "output_type": "stream",
          "name": "stdout",
          "text": [
            "length of items:  4\n",
            "length of array:  6\n",
            "[10, 2, 15, 5, 10, 25]\n",
            "['item one', 'item two', 'item three', 'item four']\n",
            "\n",
            "array1[0]  10\n",
            "array1[2]  15\n",
            "items[0]  item one\n",
            "items[2]  item three\n"
          ]
        }
      ]
    },
    {
      "cell_type": "code",
      "source": [
        "#loop through array\n",
        "#list-demo-3.py\n",
        "\n",
        "#list1 = []\n",
        "list1 = [10,\"ten\",2,15,\"fifteen\",5,10]\n",
        "\n",
        "#items = []\n",
        "items = [\"item one\", \"item two\", \"item three\"]\n",
        "items.append(\"item four\")\n",
        "\n",
        "i = 0\n",
        "\n",
        "#for item, index in array1:\n",
        "for item in list1:\n",
        "  print(f\"i> {i} - {item} - {list1[i]}\")\n",
        "  i +=1\n",
        "\n",
        "print()\n",
        "\n",
        "print(\"length of items: \", len(items))\n",
        "print(\"length of array: \", len(list1))\n",
        "\n",
        "print()\n",
        "\n",
        "i = 0\n",
        "\n",
        "#while i < len(items):\n",
        "while i < len(items):\n",
        "  print(\"i > \",i,items[i])\n",
        "  i += 1\n"
      ],
      "metadata": {
        "colab": {
          "base_uri": "https://localhost:8080/"
        },
        "id": "ObYOBICrcaMf",
        "outputId": "179282ef-8056-4194-ff7b-0e2fb8fe2be9"
      },
      "execution_count": null,
      "outputs": [
        {
          "output_type": "stream",
          "name": "stdout",
          "text": [
            "i> 0 - 10 - 10\n",
            "i> 1 - 2 - 2\n",
            "i> 2 - 15 - 15\n",
            "i> 3 - 5 - 5\n",
            "i> 4 - 10 - 10\n",
            "i> 5 - 25 - 25\n",
            "\n",
            "length of items:  4\n",
            "length of array:  6\n",
            "\n",
            "i >  0 item one\n",
            "i >  1 item two\n",
            "i >  2 item three\n",
            "i >  3 item four\n"
          ]
        }
      ]
    },
    {
      "cell_type": "code",
      "source": [
        "\"\"\"\n",
        "\n",
        "Course book practices exercises\n",
        "- page 43, Exercise 1\n",
        "- page 47, exercise 8\n",
        "- page 48, exercise 10\n",
        "- page 49, exercise 12\n",
        "\n",
        "\"\"\"\n",
        "\n",
        "\n"
      ],
      "metadata": {
        "id": "t9GOA_1mnHjf"
      },
      "execution_count": null,
      "outputs": []
    },
    {
      "cell_type": "code",
      "source": [
        "\"\"\"\n",
        "\n",
        "==========================================================\n",
        "implement the following inventory example using array/list\n",
        "==========================================================\n",
        "\n",
        "compute total of 5 items\n",
        "prompt/input for name and price\n",
        "\n",
        "example output:\n",
        "name in upper case, current date and price\n",
        "\n",
        "ITEM ONE    9/5/2024   100.5\n",
        "ITEM TwO    9/5/2024    63.25\n",
        "ITEM THREE  9/5/2024    12.3\n",
        "ITEM FOUR   9/5/2024    132.13\n",
        "ITEM FIVE   9/5/2024    102.23\n",
        "\n",
        "total                  476.15\n",
        "\n",
        "* round total\n",
        "* item in upper case\n",
        "\n",
        "\"\"\""
      ],
      "metadata": {
        "id": "9DBzI7M7o_Jx"
      },
      "execution_count": null,
      "outputs": []
    },
    {
      "cell_type": "code",
      "source": [
        "#list-demo-invoice-app-1.py\n",
        "\n",
        "#imports\n",
        "import datetime\n",
        "import random\n",
        "\n",
        "#create variables\n",
        "items = []\n",
        "prices = []\n",
        "date1 = datetime.datetime.now()\n",
        "total = 0.0\n",
        "TOTAL_ITEMS = 2\n",
        "\n",
        "today1 = f\"{date1.month}/{date1.day}/{date1.year}\"\n",
        "\n",
        "#loop throught items\n",
        "for i in range(TOTAL_ITEMS):\n",
        "  price = random.randint(1,200)\n",
        "  item = input(f\"item-{(i+1)}: \")\n",
        "  total = total + price\n",
        "  #print(f\"{(i+1)} - {item.upper()} - {today1} - {price}\")\n",
        "  items.append(item.upper())\n",
        "  prices.append(price)\n",
        "\n",
        "i = 0\n",
        "#display items and total\n",
        "for item in items:\n",
        "  print(f\"{item} - {today1} - {prices[i]}\")\n",
        "  i += 1\n",
        "\n",
        "print(\"\")\n",
        "print(\"total: \", round(total,2))\n"
      ],
      "metadata": {
        "colab": {
          "base_uri": "https://localhost:8080/"
        },
        "id": "wngTUk_y91hj",
        "outputId": "cd7b7613-1433-49c6-a4e5-cdf495290ff1"
      },
      "execution_count": null,
      "outputs": [
        {
          "output_type": "stream",
          "name": "stdout",
          "text": [
            "item-1: item one\n",
            "item-2: item two\n",
            "ITEM ONE - 9/17/2024\n",
            "ITEM TWO - 9/17/2024\n"
          ]
        }
      ]
    }
  ]
}
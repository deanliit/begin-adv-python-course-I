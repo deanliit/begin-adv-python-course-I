{
  "nbformat": 4,
  "nbformat_minor": 0,
  "metadata": {
    "colab": {
      "provenance": []
    },
    "kernelspec": {
      "name": "python3",
      "display_name": "Python 3"
    },
    "language_info": {
      "name": "python"
    }
  },
  "cells": [
    {
      "cell_type": "markdown",
      "source": [
        "#Python Course I - class demo and homework assignments\n",
        "- Google Classroom - Module 1 - 3\n",
        "\n",
        "### Demo Topics\n",
        "- input\n",
        "- sting.upper, lower\n",
        "- import - adding python modules/functions to memory\n",
        "- date / time, formatting date ie: datetime.strptime\n",
        "- random\n",
        "- range\n",
        "- for loop - loops for a fixed number of time\n",
        "- if - expression to evaluate left and right variable and return true/false\n",
        "- logical expressions, logical operatprs\n",
        "- intro to array\n",
        "- intro to list, set, tuple, map\n",
        "    - set() - function is used to cast a list to set\n",
        "    - list() - is used to cast a set to a list\n",
        "    - tuple() - cas to list to tuple\n",
        "    - dict() - cast a list to dictionary\n",
        "- functions\n",
        "- file input/output\n",
        "- OOP classes\n",
        "- python main startup module __name__ == \"__main__\"\n",
        "- Other\n",
        "\n",
        "#github course demos and examples\n",
        "\n",
        "- https://github.com/deanliit/begin-adv-python-course-I\n",
        "\n",
        "### HomeWork/Assignments\n",
        "\n",
        "- Week 1-3\n",
        "\n",
        "- Reading:\n",
        "\n",
        "https://www.w3schools.com/python/python_intro.asp\n",
        "- Variables, Data Type, Casting, Number, Operations\n",
        "\n",
        "### Course book practices exercises  \n",
        "- page 43, Exercise 1\n",
        "- page 47, exercise 8\n",
        "- page 48, exercise 10\n",
        "- page 49, exercise 12\n",
        "\n",
        "\n"
      ],
      "metadata": {
        "id": "WTQyaSpLjFfU"
      }
    },
    {
      "cell_type": "markdown",
      "source": [
        "## Course I & II Module overview\n",
        "\n",
        "<pre>\n",
        "# Module 1\n",
        "Python fundamentals\n",
        "Data type\n",
        "Variables\n",
        "Input\n",
        "for, while loop\n",
        "Other\n",
        "\n",
        "# Module 2\n",
        "Array index\n",
        "Slicers, list comprehension  \n",
        "Functions\n",
        "File input\n",
        "Other\n",
        "\n",
        "# Module 3\n",
        "Data structures\n",
        "Array, set, list, tuple, map\n",
        "Classes\n",
        "Lamda\n",
        "Other\n",
        "\n",
        "#optional - Module 4\n",
        "Intro to data analyst using python\n",
        "Pandas, numpy\n",
        "SQL\n",
        "Other\n",
        "\n",
        "</pre>"
      ],
      "metadata": {
        "id": "-2io6QFnJKCO"
      }
    },
    {
      "cell_type": "markdown",
      "source": [
        "### mathimatical expression or mathamital operations ()+,-%*^\n",
        "<pre>\n",
        "# ie math formulas - operations ()+,-%*^\n",
        "#\n",
        "#a = b + c\n",
        "#a = b * c\n",
        "#a = (b/2) + (c*3) .... etc..\n",
        "#\n",
        "#total = item1 + item2 + item3 + item4\n",
        "</pre>"
      ],
      "metadata": {
        "id": "9N0jjiJeSEpD"
      }
    },
    {
      "cell_type": "markdown",
      "source": [
        "## Logical expression\n",
        "<pre>\n",
        "Expression to evaluate left and righ variable and return true or false\n",
        "(), ==, <=, >=,\n",
        "true/false = a == b\n",
        "true/false = (a < b) or (a == b)\n",
        "true/false = a and b or c > d or e = g\n",
        "true/false = ((a and b) or (c > d) or (e == g))\n",
        "other\n",
        "\n",
        "</pre>"
      ],
      "metadata": {
        "id": "AIPQOkdVvDKp"
      }
    },
    {
      "cell_type": "markdown",
      "source": [
        "## Variable assignemt\n",
        "\n",
        "a = fixed variable assignment - known value\n",
        "\n",
        "a = dynamic variable assignmemt - ie: input\n",
        "  - retrieve data from a file or database\n",
        "\n",
        "python dynamicaly assigns a data type\n",
        "- str, int, float, bool, other\n",
        "\n",
        "cast from 1 data type to another\n",
        "\n",
        "** more casting or converting from 1 datatype to another\n",
        "\n",
        "\n",
        "some programming languages the variable data type is fixed or static\n",
        "c/java, other\n",
        "\n",
        "str a; //can only assign str to this variable\n",
        "\n",
        "float b; //can only assign float to this variable\n",
        "\n",
        "bool c;\n",
        "\n",
        "int d;\n",
        "\n",
        "** fast but doe resre a pre-compile step before running application\n",
        "\n"
      ],
      "metadata": {
        "id": "nK4EcvvORniw"
      }
    },
    {
      "cell_type": "code",
      "source": [
        "#software development best practices - python, other\n",
        "\n",
        "\"\"\"\n",
        "#Refactoring: write code and mondify/enhance code ie: 1.0.0..1\n",
        "#--------------------------------------\n",
        "# systems/ program requirments\n",
        "# ie: build the folloginw python program\n",
        "# - researching python libraries, examples\n",
        "# - demo code\n",
        "# - more programs you write the more systems you can build\n",
        "#--------------------------------------\n",
        "\n",
        "-----------------------------------\n",
        "Example Requirements\n",
        "-----------------------------------\n",
        "\n",
        "compute total of 3 items\n",
        "prompt/input for name and price\n",
        "\n",
        "example output:\n",
        "name in upper case, current date and price\n",
        "\n",
        "ITEM ONE    9/5/2024   100.5\n",
        "ITEM TwO    9/5/2024    63.25\n",
        "ITEM THREE  9/5/2024    12.3\n",
        "\n",
        "total                 176.15\n",
        "\n",
        "* round total\n",
        "* item in upper case\n",
        "\n",
        "--------------------------------------------\n",
        "Development Best practice steps for many programs\n",
        "--------------------------------------------\n",
        "#1. import libraries\n",
        "#2. get user input, files, database, web, other\n",
        "#3. string data type\n",
        "#4. cast string to other data type int, float, bool, other\n",
        "#5. retrive system data and time\n",
        "#6. retrieve day, month, year\n",
        "#7. calculating total for 3 input items\n",
        "#8. calculation or numerical expression\n",
        "#9. rounding\n",
        "#10. cast data from 1 type to another\n",
        "#11. loop through a list of items\n",
        "#12. varify if data is true/false ie: making a decision true/false\n",
        "#13. output data - screen, file, database, web, other\n",
        "# other\n",
        "\n",
        "\"\"\""
      ],
      "metadata": {
        "id": "S7aA0b9SAVyN"
      },
      "execution_count": null,
      "outputs": []
    },
    {
      "cell_type": "code",
      "source": [
        "\"\"\"\n",
        "\n",
        "==========================================================\n",
        "Implent code using this weeks notebook topics\n",
        "==========================================================\n",
        "\n",
        "compute total of 5 items\n",
        "prompt/input for name and price\n",
        "\n",
        "example output:\n",
        "name in upper case, current date and price\n",
        "\n",
        "ITEM ONE    9/5/2024   100.5\n",
        "ITEM TwO    9/5/2024    63.25\n",
        "ITEM THREE  9/5/2024    12.3\n",
        "ITEM FOUR   9/5/2024    132.13\n",
        "ITEM FIVE   9/5/2024    102.23\n",
        "\n",
        "total                  476.15\n",
        "\n",
        "* round total\n",
        "* item in upper case\n",
        "\n",
        "\"\"\""
      ],
      "metadata": {
        "id": "RVwnwX2NSmXu"
      },
      "execution_count": null,
      "outputs": []
    },
    {
      "cell_type": "code",
      "source": [
        "#dict-demo-invoice-app-1.py\n",
        "\n",
        "import datetime\n",
        "import random\n",
        "\n",
        "items = {} #dict()\n",
        "date1 = datetime.datetime.now()\n",
        "total = 0.0\n",
        "TOTAL_ITEMS = 2\n",
        "\n",
        "today1 = f\"{date1.month}/{date1.day}/{date1.year}\"\n",
        "\n",
        "for i in range(TOTAL_ITEMS):\n",
        "  price = random.randint(1,200)\n",
        "  item = input(f\"item-{(i+1)}: \")\n",
        "  total = total + price\n",
        "  items[item.upper()] = price\n",
        "\n",
        "i = 0\n",
        "\n",
        "for key in items:\n",
        "  print(f\"{key} - {today1} - {items[key]}\")\n",
        "  #i += 1\n",
        "\n",
        "print(\"\")\n",
        "print(\"total: \", round(total,2))\n"
      ],
      "metadata": {
        "id": "MBfIWfPqS5KA"
      },
      "execution_count": null,
      "outputs": []
    },
    {
      "cell_type": "code",
      "source": [
        "\"\"\"\n",
        "### preview course book examples - intro to python examples ###\n",
        "\n",
        "Functions\n",
        "File input/output\n",
        "Indexing slicing, slicers\n",
        "list comprehension\n",
        "\n",
        "\"\"\""
      ],
      "metadata": {
        "id": "NRvUHy9xSM4L"
      },
      "execution_count": null,
      "outputs": []
    },
    {
      "cell_type": "code",
      "source": [
        "#func-demo-1.py\n",
        "#functions - name give to a group of 1 or more python code\n",
        "\n",
        "#define function\n",
        "\n",
        "def func1():\n",
        "  pass\n",
        "\n",
        "def func2():\n",
        "  None\n",
        "\n",
        "def func3():\n",
        "  print(\"func3\")\n",
        "\n",
        "#call function\n",
        "func1()\n",
        "func3()\n",
        "\n"
      ],
      "metadata": {
        "colab": {
          "base_uri": "https://localhost:8080/"
        },
        "id": "f41Buf5hTAST",
        "outputId": "47e6eb72-df38-4da8-b5fe-d6ec15e25034"
      },
      "execution_count": null,
      "outputs": [
        {
          "output_type": "stream",
          "name": "stdout",
          "text": [
            "func3\n"
          ]
        }
      ]
    },
    {
      "cell_type": "code",
      "source": [
        "#func-demo-2.py\n",
        "\n",
        "#pass 1 or more data to a function\n",
        "#function prameter\n",
        "\n",
        "def func4(item):\n",
        "  print(\"func4 - \", item)\n",
        "\n",
        "def func5(item1, item2):\n",
        "  print(\"func5 - \", item1, item2)\n",
        "\n",
        "#call function\n",
        "func4(\"item one\")\n",
        "func5(\"item one\", 123)\n",
        "\n"
      ],
      "metadata": {
        "colab": {
          "base_uri": "https://localhost:8080/"
        },
        "id": "F1hL9JKpUPcN",
        "outputId": "3df61958-ce7d-4c95-d2f7-6f7ca3261be9"
      },
      "execution_count": null,
      "outputs": [
        {
          "output_type": "stream",
          "name": "stdout",
          "text": [
            "func4 -  item one\n",
            "func5 -  item one 123\n"
          ]
        }
      ]
    },
    {
      "cell_type": "code",
      "source": [
        "#func-demo-3.py\n",
        "\n",
        "#retrn data\n",
        "def func5(item):\n",
        "  ret = f\"func5 - {item}\"\n",
        "  return ret\n",
        "\n",
        "#return data\n",
        "def func6(item1, item2):\n",
        "  return (item1 + item2)\n",
        "\n",
        "#call function\n",
        "val1 = func5(\"item one\")\n",
        "val2 = func6(1,2)\n",
        "\n",
        "print(val1)\n",
        "print(val2)\n"
      ],
      "metadata": {
        "colab": {
          "base_uri": "https://localhost:8080/"
        },
        "id": "mI08RxuVY-4J",
        "outputId": "4b71dc2e-c71e-45a3-d824-832defdb2e58"
      },
      "execution_count": null,
      "outputs": [
        {
          "output_type": "stream",
          "name": "stdout",
          "text": [
            "func5 - item one\n",
            "3\n"
          ]
        }
      ]
    },
    {
      "cell_type": "code",
      "source": [
        "##write-file-demo-1.py\n",
        "## Save data to to file on disk\n",
        "## -- example - write a function to save inventory item to file\n",
        "\n",
        "#file is overwritten eact time code is ran\n",
        "f = open(\"demo-1.txt\", \"w\")\n",
        "\n",
        "#create file if file does not exist and append to file if file exists\n",
        "#f = open(\"demo-1.txt\", \"a\")\n",
        "\n",
        "f.write(\"introduction to file i/o\" + \"\\n\")\n",
        "f.write(\"write data to file - demo 1\" + \"\\n\")\n",
        "#f.writelines(\"write data to file - demo 1\")\n",
        "f.close()\n",
        "\n",
        "print(\"demo-1.txt file created\")\n",
        "\n",
        "#display file in google colabs\n",
        "#!ls\n",
        "#!cat demo-1.txt\n"
      ],
      "metadata": {
        "colab": {
          "base_uri": "https://localhost:8080/"
        },
        "id": "I88fmKWEaip3",
        "outputId": "c10eb7ce-b359-45fb-954b-0a65a8ce7a47"
      },
      "execution_count": null,
      "outputs": [
        {
          "output_type": "stream",
          "name": "stdout",
          "text": [
            "demo-1.txt file created\n"
          ]
        }
      ]
    },
    {
      "cell_type": "code",
      "source": [
        "#!ls\n",
        "!ls\n",
        "!cat demo-1.txt"
      ],
      "metadata": {
        "colab": {
          "base_uri": "https://localhost:8080/"
        },
        "id": "CQJpD5Wecahh",
        "outputId": "1ff35a70-7cb0-4913-d436-5e3e37c4026b"
      },
      "execution_count": null,
      "outputs": [
        {
          "output_type": "stream",
          "name": "stdout",
          "text": [
            "demo-1.txt  sample_data\n",
            "introduction to file i/o \n",
            "write data to file - demo 1 \n"
          ]
        }
      ]
    },
    {
      "cell_type": "code",
      "source": [
        "##read-file-demo-1.py\n",
        "## read data from file on disk\n",
        "## -- example - write a function to read inventory item from file\n",
        "\n",
        "f = open(\"demo-1.txt\", \"r\")\n",
        "#read 1 line offile\n",
        "print(f.read())\n",
        "#print(f.readline())\n",
        "f.close()\n",
        "\n",
        "#display file in google colabs\n",
        "#!ls\n"
      ],
      "metadata": {
        "colab": {
          "base_uri": "https://localhost:8080/"
        },
        "id": "375B1O38cDjh",
        "outputId": "69376d46-de90-4dda-ab95-d701829aa9f5"
      },
      "execution_count": null,
      "outputs": [
        {
          "output_type": "stream",
          "name": "stdout",
          "text": [
            "introduction to file i/owrite data to file - demo 1\n"
          ]
        }
      ]
    },
    {
      "cell_type": "code",
      "source": [
        "##read-file-demo-2.py\n",
        "## read data from file on disk\n",
        "## -- example - write a function to read inventory item from file\n",
        "\n",
        "f = open(\"demo-1.txt\", \"r\")\n",
        "\n",
        "#read each file of file\n",
        "for item in f:\n",
        "  print(item)\n",
        "\n",
        "#display file in google colabs\n",
        "#!ls\n"
      ],
      "metadata": {
        "colab": {
          "base_uri": "https://localhost:8080/"
        },
        "id": "V2PcmQzXi2gO",
        "outputId": "eed24af2-999d-4c6f-90bf-c561f7724b1a"
      },
      "execution_count": null,
      "outputs": [
        {
          "output_type": "stream",
          "name": "stdout",
          "text": [
            "introduction to file i/o\n",
            "\n",
            "write data to file - demo 1\n",
            "\n"
          ]
        }
      ]
    },
    {
      "cell_type": "code",
      "source": [
        "#example code from course book - beginner chapter example\n",
        "#page 43-44 - exercise 2\n",
        "#word frequency counter\n",
        "#word-frequency-counter-demo.py\n",
        "\n",
        "\"\"\"\n",
        "example demonstrates\n",
        "- string\n",
        "- dictionaries\n",
        "- loop\n",
        "\n",
        "\"\"\"\n",
        "\n",
        "##\n",
        "## Course book code exaples\n",
        "## Beginner chapter code examples\n",
        "##\n",
        "\n",
        "\"\"\"\n",
        "\n",
        "### Course book practices exercises\n",
        "- page 43, Exercise 1\n",
        "- page 47, exercise 8\n",
        "- page 48, exercise 10\n",
        "- page 49, exercise 12\n",
        "\n",
        "............\n",
        "page 43-44 - exercise 2\n",
        "page 44 - exercise 3\n",
        "page 44-45 - exercise 4\n",
        "page 45 - exercise 5\n",
        "\n",
        "\"\"\"\n"
      ],
      "metadata": {
        "id": "smSpy04ElBvX"
      },
      "execution_count": null,
      "outputs": []
    },
    {
      "cell_type": "code",
      "source": [
        "## index slicing demo\n",
        "#https://www.w3schools.com/python/numpy/numpy_array_slicing.asp\n",
        "\n",
        "list = [1,2,3,4]\n",
        "\n",
        "#retrieving a range of items from array, list, set, tuple\n",
        "\n",
        "#[from:to:step]\n",
        "#ie: range (from:to:step)\n",
        "\n",
        "## page 46, exercise 7\n"
      ],
      "metadata": {
        "id": "pMT-UpwBm8bf"
      },
      "execution_count": null,
      "outputs": []
    },
    {
      "cell_type": "code",
      "source": [
        "#array index\n",
        "\n",
        "#..................................................\n",
        "#(positive) index start/top to end/bottom\n",
        "#..................................................\n",
        "\n",
        "#0=1\n",
        "#1=2\n",
        "#2=3\n",
        "\n",
        "#...(positive index example).....horizontal....................\n",
        "\n",
        "#0 1 2 3\n",
        "#1 2 3 4\n",
        "\n",
        "#..................................................\n",
        "#(negative) index start/top to end/bottom\n",
        "#..................................................\n",
        "#-1 is always the end of the array, court backwards from -1, netavive value increase\n",
        "\n",
        "#-3 or 0=1\n",
        "#-2 or 1=2\n",
        "#-1 or 2=3\n",
        "\n",
        "#......(negative index example)..horizontal....................\n",
        "#-1 is always the end of the array, court backwards from -1, netavive value increase\n",
        "\n",
        "# 0   1   2   3\n",
        "# 1   2   3   4\n",
        "#-4  -3  -2  -1\n",
        "\n",
        "#array, list, set, tuple\n",
        "list1 = [1,2,3,4]\n",
        "\n",
        "#example rage example (0,2)  start and 0 and stop before 2 ie: values 0-1  is accessed\n",
        "#slicers and range always stop 1 before the end of ending number\n",
        "\n",
        "#slicing syntax is similar to range\n",
        "#step-by = optional, default = 1\n",
        "\n",
        "# range example: (start,end,step-by-or-count-by)\n",
        "# slicers example: [start:end:step-by-or-count-by]\n",
        "\n"
      ],
      "metadata": {
        "id": "uGwDNMCUHkAl"
      },
      "execution_count": null,
      "outputs": []
    },
    {
      "cell_type": "code",
      "source": [
        "#slicers-demo-1.py\n",
        "\n",
        "list1 = [1,2,3,4,5,6,7]\n",
        "\n",
        "#slicering, slicing arrya, retrieve a subset of data from array/list,set,tuple\n",
        "#step-by = optional, default = 1\n",
        "\n",
        "#positve index slicing\n",
        "#start at 0 to 4 , not including 5, or stop before 5\n",
        "print(list1[1:5])\n"
      ],
      "metadata": {
        "colab": {
          "base_uri": "https://localhost:8080/"
        },
        "id": "Dep21fQXM-zn",
        "outputId": "abd51756-70bb-42fe-810f-614dc3ab76d5"
      },
      "execution_count": 2,
      "outputs": [
        {
          "output_type": "stream",
          "name": "stdout",
          "text": [
            "[2, 3, 4, 5]\n"
          ]
        }
      ]
    },
    {
      "cell_type": "code",
      "source": [
        "#slicers-demo-2.py\n",
        "import numpy as np\n",
        "\n",
        "#numpy - numeric or number/array library\n",
        "\n",
        "#numpy - library used to generate sample arrays of small and large sizes, also manipulat arrays items (crud)\n",
        "#- create, update and delete array items\n",
        "\n",
        "#create array using numpy\n",
        "list1 = np.array([1,2,3,4,5,6,7])\n",
        "\n",
        "#slicering, slicing arrya, retrieve a subset of data from array/list,set,tuple\n",
        "#step-by = optional, default = 1\n",
        "\n",
        "#positve index slicing\n",
        "#start at 0 to 4 , not including 5, or stop before 5\n",
        "print(list1[1:5])\n"
      ],
      "metadata": {
        "colab": {
          "base_uri": "https://localhost:8080/"
        },
        "id": "d-BrlcsWOFf2",
        "outputId": "bb56e967-15c3-4bf6-ca23-2725d9bff48f"
      },
      "execution_count": 3,
      "outputs": [
        {
          "output_type": "stream",
          "name": "stdout",
          "text": [
            "[2 3 4 5]\n"
          ]
        }
      ]
    },
    {
      "cell_type": "code",
      "source": [
        "#slicers-demo-3.py\n",
        "import numpy as np\n",
        "\n",
        "list1 = np.array([1,2,3,4,5,6,7])\n",
        "\n",
        "#start from index 4 - end at last index item\n",
        "print(list1[4:])\n"
      ],
      "metadata": {
        "colab": {
          "base_uri": "https://localhost:8080/"
        },
        "id": "1siuyk-yRGYm",
        "outputId": "da39f337-93b1-4966-ae8d-87c77d036555"
      },
      "execution_count": 4,
      "outputs": [
        {
          "output_type": "stream",
          "name": "stdout",
          "text": [
            "[5 6 7]\n"
          ]
        }
      ]
    },
    {
      "cell_type": "code",
      "source": [
        "#slicers-demo-3.py\n",
        "import numpy as np\n",
        "\n",
        "list1 = np.array([1,2,3,4,5,6,7])\n",
        "\n",
        "#-- if index is out of rang, pthon stop at last index\n",
        "#-- no out of bound error/exception\n",
        "#print(list1[:10])\n",
        "\n",
        "#start from index 0 , end/stop at index 4 or (4-1) or before index 4\n",
        "print(list1[:4])\n",
        "\n"
      ],
      "metadata": {
        "colab": {
          "base_uri": "https://localhost:8080/"
        },
        "id": "mNkR-80LRxPD",
        "outputId": "fc1e72c8-44a5-4ec6-c0b2-5033931d3b3b"
      },
      "execution_count": 8,
      "outputs": [
        {
          "output_type": "stream",
          "name": "stdout",
          "text": [
            "[1 2 3 4]\n"
          ]
        }
      ]
    },
    {
      "cell_type": "code",
      "source": [
        "#slicers-demo-4.py\n",
        "import numpy as np\n",
        "\n",
        "list1 = np.array([1,2,3,4,5,6,7])\n",
        "\n",
        "#from start to end of array ie: copy entire array\n",
        "#print(list1[:])\n",
        "#print(list1[::1])\n",
        "#step by 2\n",
        "print(list1[::2])\n",
        "\n",
        "#from start to end of array ie: copy entire array\n",
        "#step backword through array - reversing the array output\n",
        "#print(list1[::-1])\n",
        "#reverse array - step by 2\n",
        "print(list1[::-2])\n"
      ],
      "metadata": {
        "colab": {
          "base_uri": "https://localhost:8080/"
        },
        "id": "XVhCgV72THrL",
        "outputId": "9240159c-5aae-42c0-e6d1-c99ddaf069a0"
      },
      "execution_count": 11,
      "outputs": [
        {
          "output_type": "stream",
          "name": "stdout",
          "text": [
            "[1 3 5 7]\n",
            "[7 5 3 1]\n"
          ]
        }
      ]
    },
    {
      "cell_type": "code",
      "source": [
        "#slicers-demo-5.py\n",
        "import numpy as np\n",
        "\n",
        "#-7  -6  -5  -4  -3  -2  -1\n",
        "#1    2   3   4   5   6   7\n",
        "\n",
        "list1 = np.array([1,2,3,4,5,6,7])\n",
        "\n",
        "#start at -3, stop 1 before end of the array\n",
        "#print(list1[-3:-1])\n",
        "\n",
        "#invalid start and end range\n",
        "#print(list1[-1:-3])\n"
      ],
      "metadata": {
        "colab": {
          "base_uri": "https://localhost:8080/"
        },
        "id": "LcWghdoyVfzx",
        "outputId": "58a81bf6-b523-426e-b1e3-47b26d6825a0"
      },
      "execution_count": 14,
      "outputs": [
        {
          "output_type": "stream",
          "name": "stdout",
          "text": [
            "[]\n"
          ]
        }
      ]
    },
    {
      "cell_type": "code",
      "source": [
        "## list comprehension\n",
        "#https://www.w3schools.com/python/python_lists_comprehension.asp\n",
        "## - 1 one stement - combining loop through list/set/tuple and also filtering list\n",
        "\n",
        "#example loop and filter :\n",
        "\"\"\"\n",
        "- display odd number example\n",
        "\n",
        "for i in range(10):\n",
        "  if i % 2 == 0:\n",
        "    print(i)\n",
        "\n",
        "\n",
        "\"\"\"\n",
        "## list comprehension example\n",
        "##-- compnbine loop and filter in 1 stament\n",
        "## in brackets\n",
        "\"\"\"\n",
        "[i for i in list i % 2 ]\n",
        "\n",
        "#output befor for ... filter stament after list ...\n",
        "\n",
        "\"\"\"\n",
        "\n",
        "## page 46, exercise 6\n"
      ],
      "metadata": {
        "id": "7QUb-OEr-Ddp"
      },
      "execution_count": null,
      "outputs": []
    },
    {
      "cell_type": "code",
      "source": [],
      "metadata": {
        "id": "1Ni8JJebmixF"
      },
      "execution_count": null,
      "outputs": []
    }
  ]
}